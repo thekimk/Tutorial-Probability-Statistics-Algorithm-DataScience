{
 "cells": [
  {
   "cell_type": "markdown",
   "metadata": {
    "toc-hr-collapsed": false
   },
   "source": [
    "# **데이터분석 의사결정을 위한 수학/통계적 언어를 이해하기**\n",
    "\n",
    "[![Open in Colab](http://colab.research.google.com/assets/colab-badge.svg)](https://colab.research.google.com/github/thekimk/Tutorial-Probability-Statistics-Algorithm-DataScience/blob/main/Lecture1-2_Basic_Probability_KK.ipynb)\n",
    "\n",
    "> **\"데이터분석이 뭐길래?\"** \n",
    ">\n",
    "> - 사람이 비이성적, 비효율적으로 처리하는 방식을 `정량적, 체계적, 합리적 의사결정` 하도록 `다양한 도구들을 활용`하는 것\n",
    "\n",
    "| **비즈니스/사람 <br> 일상 반복** \t| **사람** \t| **분석** \t| **분석도구** \t|\n",
    "|:---:|:---|:---|:---|\n",
    "| **문제/호기심** \t| 어떤 현상을 보고 \t| 어떤 현상을 보고 알고 싶은 것을 정의 \t|  \t|\n",
    "| **관찰** \t| 왜 그런일이 벌어지는지 <br> 경험/직감/인터넷으로 짧게 공들이고 \t| 왜 그런일이 벌어지는지 <br> 정량적 및 체계적으로 추측 \t| 데이터 시각화, 기술적 분석, <br> 데이터집계, 상관분석 등 \t|\n",
    "| **주장/의사결정** \t| 그 이유를 대충 근거를 들어 주장한 후 \t| 통계적 검정을 통해 주장한 후 \t| 통계추론, 확률적 검정 \t|\n",
    "| **검증** \t| 나와 의견이 같으면 좋은사람 아니면 욕함 \t| 주장이 충분히 합리적이면, <br> 알고리즘을 이용하여 그 현상을 재현해내며 주장을 설명 \t| 확률통계, 기계학습, 딥러닝, <br> 지도학습, 비지도학습, 강화학습, 검증지표 등 \t|\n",
    "| **해결** \t| ??? \t| 알고 싶은 것을 해결하고 미래에도 사용 \t|  \t|"
   ]
  },
  {
   "cell_type": "markdown",
   "metadata": {
    "toc-hr-collapsed": false
   },
   "source": [
    "## 확률? 통계? 데이터사이언스?\n",
    "\n",
    "**1) 배경:** \n",
    "\n",
    "> **\"우리는 뜬금없이 `경우의 수?` 순식간에 `확률 공식?` 곧바로 `통계?`부터 `첫만남`을 해서 당황스럽고 충격을 받아 내려놓게 되었는데...\"**\n",
    ">\n",
    "> **\"어느날 갑자기 `데이터사이언스?`라는게 화두가 되면서 호기심을 가가져볼까 했는데 또다시 `경우의수.. 확률.. 통계..`부터 나오니 이 굴레를 어떻게 벗어날 수 있을지 걱정 될 수 있습니다.\"**\n",
    ">\n",
    "> **\"`데이터분석에 이 굴레들이 어떻게 쓰이는지 정리`해 보면..\"**\n",
    "\n",
    "| **데이터 분석** \t| **목적** \t| **대응** \t|\n",
    "|:---:|:---|:---|\n",
    "| **데이터 시각화** \t| 데이터가 어떻게 생겼는지 알고 싶다 \t| (1) 전체 데이터를 한눈에 확인<br>     - 점그림, 선그림, 영역그림<br>     - 막대그림, 등고선그림, 분포그림(히스토그램)<br>     $\\rightarrow$ `통계 사용`<br>     (2) 데이터를 뿌리고 통계를 계산하기 위해 데이터 값 하나하나를 표현 <br>$\\rightarrow$ `확률/컴퓨터 사용` \t|\n",
    "| **기술적 분석** \t| 데이터가 어떻게 생겼는지 알고 싶다 \t| (1) 전체 데이터 특성을 몇 개의 숫자들로 확인   <br>$\\rightarrow$ `통계 사용`<br>     (2) 통계를 계산하기 위해 데이터 값 하나하나를 표현 <br>$\\rightarrow$ `확률/컴퓨터 사용` \t|\n",
    "| **상관관계/인과관계** \t| 여러종류 데이터끼리의 관계를 알고 싶다 \t| (1) 각 데이터를 몇 개의 숫자들로 표현   <br>$\\rightarrow$ `통계 사용`<br>     (2) 표현된 숫자들을 비교 <br>$\\rightarrow$ `확률/통계 사용` \t|\n",
    "| **통계추론** \t| 일부 데이터로 전체를 알고 싶다 \t| (1) 일부 데이터의 특성을 확인 <br>$\\rightarrow$   `통계 사용`<br>     (2) 반복적으로 실험 진행 및 통계치 재확인 <br>$\\rightarrow$ `컴퓨터 사용`<br>     (3) 전체 특성을 추론 <br>$\\rightarrow$ `통계 사용` \t|\n",
    "| **알고리즘학습** \t| 전체 데이터로 미래를 알고 싶다 \t| (1) 데이터의 관계를 수학적으로 표현   <br>$\\rightarrow$ `확률/통계/함수/컴퓨터 사용`<br>     (2) 미래를 예측한 후 정확성 확인 <br>$\\rightarrow$ `확률/통계/컴퓨터 사용` \t|\n",
    "| **가설검정(A/B Test)** \t| 뭔가 진실과 가까운 의사결정을 하고 싶다 \t| (1) 기존 데이터와 새로운 데이터 비교를 위해 숫자들로   표현 <br>$\\rightarrow$ `통계 사용`<br>     (2) 표현된 숫자들을 비교 <br>$\\rightarrow$ `확률/통계/컴퓨터 사용` \t|\n",
    "\n",
    "---\n",
    "\n",
    "**2) 확률? 통계?와 데이터분석:** \n",
    "\n",
    "> - 따로 배워서 다른 것 같지만, 일반적으로 `통계가 확률을 사용`\n",
    "> - `데이터를 통계적으로 표현`하는 이유는 이를 사용하여 무언가를 추론하거나 예측을 할 때 `확률`을 이용해서 설명하기 때문\n",
    "> - `확률`은 알려진 모델을 통해 `데이터를 예측`하는 것이고, `통계`는 주어진 데이터로부터 `모델을 예측`하는 것\n",
    "\n",
    "<center><img src='Image/Basic/ProbabilityStatistics.png' width='600'></center>\n",
    "\n",
    "- **예시:**\n",
    "\n",
    "> **\"휴대폰 매장에 스마트폰이 빨간색 7개와 검은색 3개가 있다\"**\n",
    ">\n",
    "> **(1) 통계:** 랜덤하게 비복원(뽑은걸 다시 매장에 반납)으로 계속 선택했더니, 100번중 빨간색이 69번 검은색이 31번이 선택되었다면 매장이 보유한 빨간색은 몇개? \n",
    ">\n",
    "> $\\rightarrow$ `스마트폰 색상 재고량 추정 알고리즘 생성`\n",
    ">\n",
    "> **(2) 확률:** 랜덤하게 1개를 선택해서 구매한다면 빨간색을 구매하게 될 확률은?\n",
    ">\n",
    "> $\\rightarrow$ `스마트폰 색상 재고량 추정 기반 비즈니스 예측`\n",
    "\n",
    "---\n",
    "\n",
    "- **통계추론:** 스몰데이터로 `빅데이터의 특성 추론`\n",
    "\n",
    "<center><img src='Image/Basic/ProbabilityStatistics_StatisticalInference.png' width='600'></center>\n",
    "\n",
    "- **알고리즘학습:** `빅데이터를 가정`하고 과거의 특성으로 `미래의 특성 추론`\n",
    "\n",
    "<center><img src='Image/Basic/ProbabilityStatistics_AlgorithmLearning.png' width='600'></center>"
   ]
  },
  {
   "cell_type": "markdown",
   "metadata": {},
   "source": [
    "# **사회현상에서 시작된 확률**\n",
    "\n",
    "> **\"`일기예보, 복권, 경품행사, 보험료율, 지하철 안놓칠 가능성 등` 일상생활 전반에 나타나고 있는 현상들의 `가능성`을 `수리통계적으로 표현`한 것\"**\n",
    "\n",
    "---\n",
    "\n",
    "**1) 확률의 기원:**\n",
    "\n",
    "- 역사적으로 `가능성` 법칙의 공식적 연구인 확률은 `도박`이라는 한가지 일에만 사용되었음\n",
    "> - `도박의 기원`은 `고대 이집트시대` 로마황제 크라우디우스가 주사위 게임에서 승리하는 법이라는 글에서 전해내려오는 `동물의 발꿈치 뼈`로 만든 4면의 주사위\n",
    "\n",
    "<center><img src='Image/Basic/DoBak.gif' width='500'></center>\n",
    "\n",
    "- `확률론`이 학문적으로 대두된 것은 `르네상스 시대`\n",
    "> - 어떤 사건이 일어날 가능성에 대해 체계적으로 관심을 가진 사람은 `수학자이자 도박자`인 `카르다노(1501~1576)`\n",
    "> - 남유럽 `지중해 연안의 도시 무역상인`들이 무료함을 달래기 위해 도박을 즐겨\n",
    "> - 어떤 사람(드 메레)은 주사위 도박을 하면서 수학적 계산을 통해 많은 이익을 얻은 유명한 도박사였으며, 프랑스 `수학자/물리학자/철학자 파스칼`과 함께 승률을 연구하기 위해 도박을 시도\n",
    "\n",
    "<center><img src='Image/Basic/Pascal.jpg' width='500'>(https://trekkinghunter.tistory.com/1026)</center>\n",
    "\n",
    "---\n",
    "\n",
    "**2) 확률의 역사:**\n",
    "\n",
    "> **카르다노(Cardano, 1501～1576):** \n",
    ">  \n",
    "> - `수학을 도박에 적용`하여 이론적으로 연구한 수학자\n",
    "> - 3차 방정식의 해법에 관한 `Ars Magna`를 출판한 `이탈리아의 카르다노`\n",
    "> - 병원을 개업한 의사였음에도 `수학에 취미`가 있었으며 도박을 즐기고 사기도 치는 등 괴팍한 성격의 소유자\n",
    "> - 유난히 학문에 관심이 많아 `점성술을 연구`하기도 했으며 수학을 열심히 공부하며 결국은 `밀라노 대학의 수학 교수`\n",
    "> - 카르다노는 도박에 관심이 많았으므로 `게임에 이길 확률`을 계산하는 데 수학을 사용\n",
    "\n",
    "> **드 메레(Chevalier de Mere):** \n",
    ">\n",
    "> - 카르다노가 죽은 후, 도박에 대한 본격적인 연구가 진행된 것은 `17세기의 프랑스`\n",
    "> - 당시 유명 도박사 중 `슈발리에 드 메레`는 도박을 할 때 수학적으로 생각하여 많은 이익\n",
    "> - 문제가 생기면 친구인 `천재 블레이즈 파스칼(1623～1666)`에게 그 질문\n",
    "> - 파스칼은 드 메레의 문제를 다루는 데 동의하고 자신의 동료인 또 다른 천재 수학자 피에르 드 페르마(1601～1665)에게 몇 자의 편지를 썼고 이러한 과정을 거쳐 그 두 사람은 `도박에 대한 얘기를 나누다가 현대적인 형태의 확률 이론`을 세움\n",
    "\n",
    "- `파스칼과 페르마`가 도박에 관한 연구를 하면서 시작된 `확률론`은 스위스의 수학자 `베르누이`와 프랑스의 수학자이며 1718년에 `우연론`을 발표한 `드 무아브르`에 의해 급속한 발전\n",
    "- `19세기 초`에 이르러 프랑스의 수학자이자 천문학자인 `라플라스`에 의해 확률은 하나의 수학적 체계로 조직화\n",
    "- `Jakob Bernoulli, De Moivre`에 의해 집대성되어 `고전 확률론`이 완성되었고 `Fechner, Bruns, Poisson`에 의해 `통계적 확률` 정의\n",
    "- `1930년대`에 이르러 `Kolmogorov`에 의해 `측도론적 확률의 기초`가 확립되어 `오늘의 확률론`으로 발전\n"
   ]
  },
  {
   "cell_type": "markdown",
   "metadata": {},
   "source": [
    "## 확률계산을 위한 경우의 수\n",
    "\n",
    "<center><img src='Image/Basic/ProbabilityStatistics.png' width='600'></center>\n",
    "\n",
    "**1) 순열(Permutation):** \n",
    "\n",
    "- **\"1부터 9까지의 숫자들을 순서를 고려해서 늘여놓아 봅시다.\"**\n",
    "\n",
    "> - 늘어놓을 수 있는 자리는 `9개`\n",
    "> - 첫째자리에 올수 있는 숫자는 `9개`\n",
    "> - 둘째자리에 올수 있는 숫자는 첫째자리 숫자를 제외한 `8개`\n",
    "> - 셋째자리에 올수 있는 숫자는 첫째와 둘째자리 숫자를 제외한 `7개`\n",
    "> - (반복되다) 마지막 9번째 자리에 올수 있는 숫자는 `1개`\n",
    "> - **모든 경우의 수:** $9 \\times 8 \\times 7 \\times 6 \\times 5 \\times 4 \\times 3 \\times 2 \\times 1 = 9!$\n",
    "\n",
    "- **\"1부터 9까지의 숫자들을 순서를 고려해서 늘여놓아 봅시다.\"**\n",
    "- **\"만약 `자리 갯수가 4개`면?\"**\n",
    "\n",
    "> - 늘어놓을 수 있는 자리는 `4개`\n",
    "> - 첫째자리에 올수 있는 숫자는 `9개`\n",
    "> - 둘째자리에 올수 있는 숫자는 첫째자리 숫자를 제외한 `8개`\n",
    "> - 셋째자리에 올수 있는 숫자는 첫째와 둘째자리 숫자를 제외한 `7개`\n",
    "> - 마지막 6번째 자리에 올수 있는 숫자는 `6개`\n",
    "> - **모든 경우의 수:** $9 \\times 8 \\times 7 \\times 6$\n",
    "\n",
    "\\begin{align*}\n",
    "_{9}P_{4} &= \\frac{9!}{5!} = 9 \\times 8 \\times 7 \\times 6 \\\\\n",
    "_{n}P_{r} &= \\frac{n!}{(n-r)!} = n(n-1)(n-2) \\dots (n-r)\n",
    "\\end{align*}\n",
    "\n",
    "**2) 조합(Permutation):**\n",
    "\n",
    "- **\"1부터 4까지의 숫자들을 순서를 고려해서 늘여놓아 봅시다.\"**\n",
    "- **\"만약 `자리 갯수가 3개`라서 3숫자 단어를 만들어 봅시다.\"**\n",
    "\n",
    "> - **모든 경우의 수:** $_{4}P_{3} = 4 \\times 3 \\times 2 = 24$\n",
    "> - **1,2,3만 사용:** `123, 132, 213, 231, 312, 321`\n",
    "> - **2,3,4만 사용:** `234, 243, 324, 342, 423, 432`\n",
    "> - **1,2,4만 사용:** `124, 142, 214, 241, 412, 421`\n",
    "> - **1,3,4만 사용:** `134, 143, 314, 341, 413, 431`\n",
    "\n",
    "- **\"1부터 4까지의 숫자들을 `순서를 고려하지 않고` 늘여놓아 봅시다.\"**\n",
    "- **\"순서를 고려하지 않는다는 것은 `순서랑 상관없이 포함된 숫자 종류만 체크`\"**\n",
    "- **\"만약 `자리 갯수가 3개`라서 3숫자 단어를 만들어 봅시다.\"**\n",
    "\n",
    "> - **1,2,3만 사용:** `123, 132, 213, 231, 312, 321` $\\rightarrow$ `1개`\n",
    "> - **2,3,4만 사용:** `234, 243, 324, 342, 423, 432` $\\rightarrow$ `1개`\n",
    "> - **1,2,4만 사용:** `124, 142, 214, 241, 412, 421` $\\rightarrow$ `1개`\n",
    "> - **1,3,4만 사용:** `134, 143, 314, 341, 413, 431` $\\rightarrow$ `1개`\n",
    "> - **모든 경우의 수:** $4$\n",
    ">> - 순열 나열이 `조합` 입장에서는 `1개가 6개(3!)로 뻥튀기` 된 표현\n",
    ">> - 순열을 계산하고 `뻥튀기 된 경우의 수를 제거(나누기)`한 것이 `조합`\n",
    "\n",
    "\\begin{align*}\n",
    "_{4}C_{3} &= \\frac{_{4}P_{3}}{3!} \\\\\n",
    "_{n}C_{r} &= \\frac{\\text{n개 중에서 r개를 나열하는 경우의 수}}{\\text{뻥튀기 된 r개를 나열하는 경우의 수}} = \\frac{_{n}P_{r}}{r!}\n",
    "\\end{align*}\n",
    "\n",
    "---\n",
    "\n",
    "**3) 순열?조합?의 활용:**\n",
    "\n",
    "<center><img src='Image/Basic/Probability_Combination.png' width='400'></center>\n",
    "\n",
    "<span style=\"color:red\">$\\Rightarrow$ **\"`1/2/3/4/5` 중에서 순서에 상관없이 2개의 직선과, `a/b/c/d` 중에서 순서에 상관없이 2개의 직선을 선택하는 것\"**</span>\n",
    "\n",
    "> **(1) `1/2/3/4/5` 중에서 `순서에 상관없이 2개의 직선` 선택:** \n",
    ">\n",
    "> \\begin{align*}\n",
    "_{5}C_{2} &= \\frac{_{5}P_{2}}{2!}\n",
    "\\end{align*}\n",
    ">\n",
    "> **(2) `a/b/c/d` 중에서 `순서에 상관없이 2개의 직선` 선택:** \n",
    ">\n",
    "> \\begin{align*}\n",
    "_{4}C_{2} &= \\frac{_{4}P_{2}}{2!}\n",
    "\\end{align*}\n",
    ">\n",
    "> **(3) 사각형의 갯수는?**\n",
    ">\n",
    "> \\begin{align*}\n",
    "_{5}C_{2} \\times _{4}C_{2} &= \\frac{_{5}P_{2}}{2!} \\times \\frac{_{4}P_{2}}{2!} \\\\\n",
    "&= \\frac{5 \\times 4}{2!} \\times \\frac{4 \\times 3}{2!} = 60\n",
    "\\end{align*}"
   ]
  },
  {
   "cell_type": "markdown",
   "metadata": {},
   "source": [
    "## 확률 및 확률분포\n",
    "\n",
    "> **\"경우의 수를 배우는 이유는, `실제 사건 또는 데이터 값`에서 가능한 상황 또는 값들이 무엇일지 모든 가능성을 생각해보기 위해서\"**\n",
    ">\n",
    "> **\"순열과 조합을 배우는 이유는, `실제 사건이나 데이터 값`들이 통상 `순서대로 발생되는 경우와 순서와 상관없이 발생되는 경우`가 있기 때문\"**\n",
    "\n",
    "- **\"1부터 4까지의 숫자들을 순서를 고려해서 늘여놓아 봅시다.\"**\n",
    "- **\"만약 `자리 갯수가 3개`라서 3숫자 단어를 만들어 봅시다.\"**\n",
    "\n",
    "> - **모든 경우의 수:** $_{4}P_{3} = 4 \\times 3 \\times 2 = 24$\n",
    "> - **1,2,3만 사용:** `123, 132, 213, 231, 312, 321`\n",
    "> - **2,3,4만 사용:** `234, 243, 324, 342, 423, 432`\n",
    "> - **1,2,4만 사용:** `124, 142, 214, 241, 412, 421`\n",
    "> - **1,3,4만 사용:** `134, 143, 314, 341, 413, 431`\n",
    "\n",
    "- **\"1부터 4까지의 숫자들을 `순서를 고려하지 않고` 늘여놓아 봅시다.\"**\n",
    "- **\"순서를 고려하지 않는다는 것은 `순서랑 상관없이 포함된 숫자 종류만 체크`\"**\n",
    "- **\"만약 `자리 갯수가 3개`라서 3숫자 단어를 만들어 봅시다.\"**\n",
    "\n",
    "> - **모든 경우의 수:** $4$\n",
    "> - **1,2,3만 사용:** `123, 132, 213, 231, 312, 321` $\\rightarrow$ `1개`\n",
    "> - **2,3,4만 사용:** `234, 243, 324, 342, 423, 432` $\\rightarrow$ `1개`\n",
    "> - **1,2,4만 사용:** `124, 142, 214, 241, 412, 421` $\\rightarrow$ `1개`\n",
    "> - **1,3,4만 사용:** `134, 143, 314, 341, 413, 431` $\\rightarrow$ `1개`\n",
    "\n",
    "---\n",
    "\n",
    "**1) 확률의 등장:** \n",
    "\n",
    "<center><img src='Image/Basic/ProbabilityStatistics.png' width='600'></center>\n",
    "\n",
    "> **(1) 우리가 관심이 있는건 `전체가 아니라 일부`이며, `실제 사건이나 데이터 값` 전체가 아니라 그 중 `특정 사건이나 특정 예측 값`**\n",
    ">\n",
    "> **(2) `특정 사건이나 특정 예측 값`의 관심을 `확률로 표현하여 가능성 짐작`**\n",
    ">\n",
    "> - **모든 경우의 수:** $_{4}P_{3} = 4 \\times 3 \\times 2 = 24$\n",
    "> - **1,2,3만 사용:** `123, 132, 213, 231, 312, 321`\n",
    "> - **2,3,4만 사용:** `234, 243, 324, 342, 423, 432`\n",
    "> - **1,2,4만 사용:** `124, 142, 214, 241, 412, 421`\n",
    "> - **1,3,4만 사용:** `134, 143, 314, 341, 413, 431`\n",
    "\n",
    "| **특정 상황** \t| **경우의 수** \t| **확률** \t|\n",
    "|:---:\t|:---:\t|:---:\t|\n",
    "| 전체 사건 중 1,2,3이 포함 \t| `123, 132, 213, 231, 312, 321` \t| \\begin{align*}\\frac{6}{24} = \\frac{1}{4}\\end{align*} \t|\n",
    "| 전체 사건 중 2,3,4가 포함 \t| `234, 243, 324, 342, 423, 432` \t| \\begin{align*}\\frac{6}{24} = \\frac{1}{4}\\end{align*} \t|\n",
    "| 전체 사건 중 1,2,4가 포함 \t| `124, 142, 214, 241, 412, 421` \t| \\begin{align*}\\frac{6}{24} = \\frac{1}{4}\\end{align*} \t|\n",
    "| 전체 사건 중 1,3,4가 포함 \t| `134, 143, 314, 341, 413, 431` \t| \\begin{align*}\\frac{6}{24} = \\frac{1}{4}\\end{align*} \t|\n",
    "\n",
    "---\n",
    "\n",
    "**2) 확률의 정의 및 확률분포:**\n",
    "\n",
    "- **예시1:** `내일` 동전을 3번 던져서 앞면이 몇개 나올지 `예측`\n",
    "\n",
    "| **특정 상황** \t| **경우의 수** \t| **확률** \t|\n",
    "|:---:\t|:---:\t|:---:\t|\n",
    "| 앞면이 0개인 경우 \t| `TTT` \t| \\begin{align*}\\frac{1}{8}\\end{align*} \t|\n",
    "| 앞면이 1개인 경우 \t| `HTT, THT, TTH` \t| \\begin{align*}\\frac{3}{8}\\end{align*} \t|\n",
    "| 앞면이 2개인 경우 \t| `HHT, HTH, THH` \t| \\begin{align*}\\frac{3}{8}\\end{align*} \t|\n",
    "| 앞면이 3개인 경우 \t| `HHH` \t| \\begin{align*}\\frac{1}{8}\\end{align*} \t|\n",
    "\n",
    "- **예시2:** 나의 차례에서 어떤 결과가 나올지 `예측`\n",
    "\n",
    "<center><img src='Image/Basic/KoreanGame.jpg' width='350'></center>\n",
    "\n",
    "| **특정 상황** \t| **경우의 수** \t| **확률** \t|\n",
    "|:---:\t|:---:\t|:---:\t|\n",
    "| `도`가 나오는 경우 \t| `HTTT, THTT, TTHT, TTTH` \t| \\begin{align*}\\frac{4}{16}\\end{align*} \t|\n",
    "| `개`가 나오는 경우 \t| `HHTT, HTHT, HTTH, THHT, THTH, TTHH` \t| \\begin{align*}\\frac{6}{16}\\end{align*} \t|\n",
    "| `걸`가 나오는 경우 \t| `HHHT, HHTH, HTHH, THHH` \t| \\begin{align*}\\frac{4}{16}\\end{align*} \t|\n",
    "| `윷`가 나오는 경우 \t| `TTTT` \t| \\begin{align*}\\frac{1}{16}\\end{align*} \t|\n",
    "| `모`가 나오는 경우 \t| `HHHH` \t| \\begin{align*}\\frac{1}{16}\\end{align*} \t|\n",
    "\n",
    "---\n",
    "\n",
    "**(1) 확률:** 전체 사건들 중 `특정 사건`이 발생할 `가능성`\n",
    "\n",
    "\\begin{align*}\n",
    "P(X) &= \\frac{\\text{X사건이 발생할 경우의 수}}{\\text{전체 사건이 발생할 경우의 수}}\n",
    "\\end{align*}\n",
    "\n",
    "> - **예시1:** $\\frac{1}{8}$, $\\frac{3}{8}$, $\\frac{3}{8}$, $\\frac{1}{8}$\n",
    "> - **예시2:** $\\frac{4}{16}$, $\\frac{6}{16}$, $\\frac{4}{16}$, $\\frac{1}{16}$, $\\frac{1}{16}$\n",
    "\n",
    "**(2) 확률변수:** 다양하게 발생할 수 있는 `사건`을 변할수 있는 값이라는 의미의 `변수 X`로 일반화 하여 표현 가능\n",
    "\n",
    "> - **예시1:** 앞면의 갯수 `X: 0, 1, 2, 3`\n",
    "> - **예시2:** 앞면의 갯수 `X: 도(앞면1개), 개(앞면2개), 걸(앞면3개), 윷(앞면0개), 모(앞면4개)`\n",
    "\n",
    "**(3) 확률분포:** 각 사건에 대응되는 확률의 `퍼진 정도`로 일반화 한 것\n",
    "\n",
    "| **확률변수\\begin{align*}(X)\\end{align*}** \t| **경우의 수** \t| **확률분포** \t|\n",
    "|:---:\t|:---:\t|:---:\t|\n",
    "| `윷(앞면이 0개)` \t| `TTTT` \t| \\begin{align*}\\frac{1}{16}\\end{align*} \t|\n",
    "| `도(앞면이 1개)` \t| `HTTT, THTT, TTHT, TTTH` \t| \\begin{align*}\\frac{4}{16}\\end{align*} \t|\n",
    "| `개(앞면이 2개)` \t| `HHTT, HTHT, HTTH, THHT, THTH, TTHH` \t| \\begin{align*}\\frac{6}{16}\\end{align*} \t|\n",
    "| `걸(앞면이 3개)` \t| `HHHT, HHTH, HTHH, THHH` \t| \\begin{align*}\\frac{4}{16}\\end{align*} \t|\n",
    "| `모(앞면이 4개)` \t| `HHHH` \t| \\begin{align*}\\frac{1}{16}\\end{align*} \t|\n",
    "\n",
    "**(4) 확률분포도:** 확률분포를 그림으로 표현한 것으로 `히스토그램`의 한 종류\n",
    "\n",
    "<center><img src='Image/Basic/Probability_Histogram.png' width='500'></center>\n",
    "\n",
    "> **\"이러한 과정을 통해 상황 설명 필요없이, `과거데이터`에서 $X$가 어떤 값일때의 `확률값`으로 쉽게 파악할 수 있고, `확률분포`를 기반으로 `미래 예측값`의 가능성을 `정량적으로 표현`\"**\n",
    ">\n",
    "> **\"결국 이름은 확률이지만 `퍼센트`와 같은 개념이고 `전체 합 = 1(100%)`\"**\n",
    "\n",
    "**(5) 확률질량함수/확률밀도함수:** 확률분포도를 그리는 `수학적 함수 표현식`"
   ]
  },
  {
   "cell_type": "markdown",
   "metadata": {},
   "source": [
    "# **대표적 확률분포**\n",
    "\n",
    "## 이항분포 & 정규분포\n",
    "\n",
    "**1) 이항분포(Binomial Distribution):** 확률분포를 `이항분포`로 표현 가능\n",
    "\n",
    "- **예시1:** `내일` 동전을 3번 던져서 앞면이 몇개 나올지 `예측`\n",
    "\n",
    "| **확률변수\\begin{align*}(X)\\end{align*}** \t| **경우의 수** \t| **확률분포** \t|\n",
    "|:---:\t|:---:\t|:---\t|\n",
    "| 앞면이 0개 \t| `TTT` \t| \\begin{align*}\\frac{1}{8} = {}_{3}C_{0} \\times \\frac{1}{2} \\times \\frac{1}{2} \\times \\frac{1}{2} \\\\ = {}_{3}C_{0} \\times \\left(\\frac{1}{2}\\right)^{0} \\times \\left(\\frac{1}{2}\\right)^{3}\\end{align*} \t|\n",
    "| 앞면이 1개 \t| `HTT, THT, TTH` \t| \\begin{align*}\\frac{3}{8} = {}_{3}C_{1} \\times \\frac{1}{2} \\times \\frac{1}{2} \\times \\frac{1}{2} \\\\ = {}_{3}C_{1} \\times \\left(\\frac{1}{2}\\right)^{1} \\times \\left(\\frac{1}{2}\\right)^{2}\\end{align*} \t|\n",
    "| 앞면이 2개 \t| `HHT, HTH, THH` \t| \\begin{align*}\\frac{3}{8} = {}_{3}C_{2} \\times \\frac{1}{2} \\times \\frac{1}{2} \\times \\frac{1}{2} \\\\ = {}_{3}C_{2} \\times \\left(\\frac{1}{2}\\right)^{2} \\times \\left(\\frac{1}{2}\\right)^{1}\\end{align*} \t|\n",
    "| 앞면이 3개 \t| `HHH` \t| \\begin{align*}\\frac{1}{8} = {}_{3}C_{3} \\times \\frac{1}{2} \\times \\frac{1}{2} \\times \\frac{1}{2} \\\\ = {}_{3}C_{3} \\times \\left(\\frac{1}{2}\\right)^{3} \\times \\left(\\frac{1}{2}\\right)^{0}\\end{align*} \t|\n",
    "\n",
    "- **예시2:** 나의 차례에서 어떤 결과가 나올지 `예측`\n",
    "\n",
    "<center><img src='Image/Basic/KoreanGame.jpg' width='350'></center>\n",
    "\n",
    "| **확률변수\\begin{align*}(X)\\end{align*}** \t| **경우의 수** \t| **확률분포** \t|\n",
    "|:---:\t|:---:\t|:---:\t|\n",
    "| `윷(앞면이 0개)`가 나오는 경우 \t| `TTTT` \t| \\begin{align*}\\frac{1}{16} = {}_{4}C_{0} \\times \\frac{1}{2} \\times \\frac{1}{2} \\times \\frac{1}{2} \\times \\frac{1}{2} \\\\ = {}_{4}C_{0} \\times \\left(\\frac{1}{2}\\right)^{0} \\times \\left(\\frac{1}{2}\\right)^{4}\\end{align*} \t|\n",
    "| `도(앞면이 1개)`가 나오는 경우 \t| `HTTT, THTT, TTHT, TTTH` \t| \\begin{align*}\\frac{4}{16} = {}_{4}C_{1} \\times \\frac{1}{2} \\times \\frac{1}{2} \\times \\frac{1}{2} \\times \\frac{1}{2} \\\\ = {}_{4}C_{1} \\times \\left(\\frac{1}{2}\\right)^{1} \\times \\left(\\frac{1}{2}\\right)^{3}\\end{align*} \t|\n",
    "| `개(앞면이 2개)`가 나오는 경우 \t| `HHTT, HTHT, HTTH, THHT, THTH, TTHH` \t| \\begin{align*}\\frac{6}{16} = {}_{4}C_{2} \\times \\frac{1}{2} \\times \\frac{1}{2} \\times \\frac{1}{2} \\times \\frac{1}{2} \\\\ = {}_{4}C_{2} \\times \\left(\\frac{1}{2}\\right)^{2} \\times \\left(\\frac{1}{2}\\right)^{2}\\end{align*} \t|\n",
    "| `걸(앞면이 3개)`가 나오는 경우 \t| `HHHT, HHTH, HTHH, THHH` \t| \\begin{align*}\\frac{4}{16} = {}_{4}C_{3} \\times \\frac{1}{2} \\times \\frac{1}{2} \\times \\frac{1}{2} \\times \\frac{1}{2} \\\\ = {}_{4}C_{4} \\times \\left(\\frac{1}{2}\\right)^{3} \\times \\left(\\frac{1}{2}\\right)^{1}\\end{align*} \t|\n",
    "| `모(앞면이 4개)`가 나오는 경우 \t| `HHHH` \t| \\begin{align*}\\frac{1}{16} = {}_{4}C_{4} \\times \\frac{1}{2} \\times \\frac{1}{2} \\times \\frac{1}{2} \\times \\frac{1}{2} \\\\ = {}_{4}C_{4} \\times \\left(\\frac{1}{2}\\right)^{4} \\times \\left(\\frac{1}{2}\\right)^{0}\\end{align*} \t|\n",
    "\n",
    "---\n",
    "\n",
    "> **\"우리 사회에 발생하는 많은 사건들을 설명하는 확률분포는 `이항분포`\"**\n",
    ">\n",
    "> - 동전을 던져서 앞면이 몇개 나올지 예측하기 위한 확률분포는 `확률이 0.5` + `시행횟수 10`인 `이항분포`\n",
    "> - 윷놀이에서 어떤 결과가 나올지 예측하기 위한 확률분포는 `확률이 0.5` + `시행횟수 4`인 `이항분포`\n",
    "> - 타율 3할인 타자가 내년도 100 타석에서 몇번 안타를 칠지 예측하기 위한 확률분포는 `확률이 0.3` + `시행횟수 100`인 `이항분포`\n",
    "> - 사망률이 30%인 전염병에 걸려서 내가 사망할 확률은? $\\rightarrow$ `이항분포`\n",
    "> - 수능문제에서 5지선다형을 다 찍었을때 80점일 확률은? $\\rightarrow$ `이항분포`\n",
    "\n",
    "**(1) 확률질량함수(Probability Mass Function):**\n",
    "\n",
    "\\begin{align*} f(X) = f(X=x) = {}_{n}C_{x}\\times P^{x} \\times (1-P)^{n-x}\\end{align*} \n",
    "\n",
    "<center><img src='Image/Basic/Probability_Histogram.png' width='500'></center>\n",
    "\n",
    "**(2) 예측 기대값(Expectation):** 예측되는 확률변수 분포의 `평균값`으로, 예상되는 `확률변수값`을 `확률 가중치`로 평균한 값 \n",
    "\n",
    "\\begin{align*} \n",
    "& \\text{\"앞면의 갯수 } \\times \\text{ 확률\"의 합} \\\\\n",
    "E(X) &= 0 \\times f(X=0) + 1 \\times f(X=1) \\\\\n",
    "&+ 2 \\times f(X=2) + 3 \\times f(X=3) + 4 \\times f(X=4) \\\\\n",
    "&= 0 \\times \\frac{1}{16} + 1 \\times \\frac{4}{16} + 2 \\times \\frac{6}{16} + 3 \\times \\frac{4}{16} + 4 \\times \\frac{1}{16} \\\\\n",
    "&= 2 \\text{ 개로 예측} \\\\\n",
    "\\\\\n",
    "& \\text{\"이항분포의 예측 기대값\"} \\\\\n",
    "E(X) &= \\sum_{x=0}^{n} E(X=x) = \\sum_{x=0}^{n} x f(x) = \\mu\n",
    "\\end{align*} \n",
    "\n",
    "**(3) 예측 기대오차(Variance):** 예측되는 확률변수 분포의 `분산값`으로, 예상되는 `확률변수값`이 기대값으로부터 얼마나 퍼져있는지를 측정한 값\n",
    "\n",
    "\\begin{align*} \n",
    "& \\text{\"앞면의 갯수 기대값\"의 퍼진 정도} \\\\\n",
    "Var(X) &= E \\left[(X - \\mu)^2 \\right] \\\\\n",
    "&= \\sum_{x=0}^{4} E \\left[((X=x) - \\mu)^2 \\right] = \\sum_{x=0}^{4} (x - \\mu)^2 f(x)  \\\\\n",
    "&= (0-2)^2 \\times \\frac{1}{16} + (1-2)^2 \\times \\frac{4}{16} \\\\\n",
    "&+ (2-2)^2 \\times \\frac{6}{16} + (3-2)^2 \\times \\frac{4}{16} + (4-2)^2 \\times \\frac{1}{16} \\\\\n",
    "&= 1 \\text{ 개정도의 예측 오차} \\\\\n",
    "\\\\\n",
    "& \\text{\"이항분포의 예측 기대오차\"} \\\\\n",
    "Var(X) &= E \\left[(X - \\mu)^2 \\right] = \\sum_{x=0}^{n} (x - \\mu)^2 f(x) = \\sigma^2\n",
    "\\end{align*} \n",
    "\n",
    "---\n",
    "\n",
    "**2) 정규분포(Normal Distribution):** 우리는 특정 사건에 관심이 있고, 여러번 시행하면 특정사건의 발생확률이 어떻게 될지 확인 가능\n",
    "\n",
    "> **\"우리 사회에 발생하는 많은 `특정 사건`들이 반복되면 확률분포는 `정규분포`\"**"
   ]
  },
  {
   "cell_type": "code",
   "execution_count": 1,
   "metadata": {
    "ExecuteTime": {
     "end_time": "2022-07-06T14:24:55.464830Z",
     "start_time": "2022-07-06T14:24:49.584119Z"
    }
   },
   "outputs": [
    {
     "data": {
      "image/png": "[encoded data removed]",
      "text/plain": [
       "<Figure size 720x288 with 2 Axes>"
      ]
     },
     "metadata": {
      "needs_background": "light"
     },
     "output_type": "display_data"
    },
    {
     "data": {
      "image/png": "[encoded data removed]",
      "text/plain": [
       "<Figure size 720x288 with 2 Axes>"
      ]
     },
     "metadata": {
      "needs_background": "light"
     },
     "output_type": "display_data"
    }
   ],
   "source": [
    "import numpy as np\n",
    "import pandas as pd\n",
    "import matplotlib.pyplot as plt\n",
    "import seaborn as sns\n",
    "from math import factorial\n",
    "\n",
    "# 이항분포 함수화\n",
    "def dist_binomial(n, x, p):\n",
    "    combi = factorial(n) / (factorial(x) * factorial(n - x))\n",
    "    dist_prob = combi * (p**x) * ((1-p)**(n-x))\n",
    "    return dist_prob\n",
    "\n",
    "# 주사위를 던저서 특정 눈이 나올 확률분포 시각화\n",
    "fig, axes = plt.subplots(1,2, figsize=(10,4))\n",
    "iteration_list = [10, 60]\n",
    "prob = 1/6\n",
    "for idx, iteration in enumerate(iteration_list):\n",
    "    prob_dist = [dist_binomial(iteration, i, prob) for i in range(1,iteration+1)]\n",
    "    sns.barplot(x=list(range(1,iteration+1)), y=prob_dist, ax=axes[idx])\n",
    "    axes[idx].set_title('Iteration: '+str(iteration))\n",
    "    axes[idx].set_xlim((iteration*prob) - 4*np.sqrt(iteration*prob*(1-prob)),\n",
    "                       (iteration*prob) + 4*np.sqrt(iteration*prob*(1-prob)))\n",
    "    axes[idx].set_xlabel('count')\n",
    "plt.show()\n",
    "fig, axes = plt.subplots(1,2, figsize=(10,4))\n",
    "iteration_list = [120, 600]\n",
    "for idx, iteration in enumerate(iteration_list):\n",
    "    prob_dist = [dist_binomial(iteration, i, prob) for i in range(1,iteration+1)]\n",
    "    sns.barplot(x=list(range(1,iteration+1)), y=prob_dist, ax=axes[idx])\n",
    "    axes[idx].set_title('Iteration: '+str(iteration))\n",
    "    axes[idx].set_xlim((iteration*prob) - 4*np.sqrt(iteration*prob*(1-prob)),\n",
    "                       (iteration*prob) + 4*np.sqrt(iteration*prob*(1-prob)))\n",
    "    axes[idx].set_xlabel('count')\n",
    "plt.show()"
   ]
  },
  {
   "cell_type": "markdown",
   "metadata": {},
   "source": [
    "> **\"몇가지 규칙 발견!\"**\n",
    ">\n",
    "> **(1)** 시행 횟수($n$)가 증가하면 `정규분포와 비슷`해진다\n",
    ">\n",
    "> **(2)** 시행 횟수($n$)가 증가하면, `정규분포의 평균값` 정도로 `경우의 수`($n \\times p$)가 발생한다"
   ]
  },
  {
   "cell_type": "code",
   "execution_count": 2,
   "metadata": {
    "ExecuteTime": {
     "end_time": "2022-07-02T10:39:46.168099Z",
     "start_time": "2022-07-02T10:39:42.905093Z"
    }
   },
   "outputs": [
    {
     "data": {
      "image/png": "[encoded data removed]",
      "text/plain": [
       "<Figure size 720x288 with 2 Axes>"
      ]
     },
     "metadata": {
      "needs_background": "light"
     },
     "output_type": "display_data"
    },
    {
     "data": {
      "image/png": "[encoded data removed]",
      "text/plain": [
       "<Figure size 720x288 with 2 Axes>"
      ]
     },
     "metadata": {
      "needs_background": "light"
     },
     "output_type": "display_data"
    }
   ],
   "source": [
    "import pandas as pd\n",
    "import matplotlib.pyplot as plt\n",
    "import seaborn as sns\n",
    "from math import factorial\n",
    "\n",
    "# 이항분포 함수화\n",
    "def dist_binomial(n, x, p):\n",
    "    combi = factorial(n) / (factorial(x) * factorial(n - x))\n",
    "    dist_prob = combi * (p**x) * ((1-p)**(n-x))\n",
    "    return dist_prob\n",
    "\n",
    "# 동전을 던저서 특정 면이 나올 확률분포 시각화\n",
    "fig, axes = plt.subplots(1,2, figsize=(10,4))\n",
    "iteration_list = [10, 50]\n",
    "prob = 1/2\n",
    "for idx, iteration in enumerate(iteration_list):\n",
    "    prob_dist = [dist_binomial(iteration, i, prob) for i in range(1,iteration+1)]\n",
    "    sns.barplot(x=list(range(1,iteration+1)), y=prob_dist, ax=axes[idx])\n",
    "    axes[idx].set_title('Iteration: '+str(iteration))\n",
    "    axes[idx].set_xlim((iteration*prob) - 4*np.sqrt(iteration*prob*(1-prob)),\n",
    "                       (iteration*prob) + 4*np.sqrt(iteration*prob*(1-prob)))\n",
    "    axes[idx].set_xlabel('count')\n",
    "plt.show()\n",
    "fig, axes = plt.subplots(1,2, figsize=(10,4))\n",
    "iteration_list = [100, 500]\n",
    "for idx, iteration in enumerate(iteration_list):\n",
    "    prob_dist = [dist_binomial(iteration, i, prob) for i in range(1,iteration+1)]\n",
    "    sns.barplot(x=list(range(1,iteration+1)), y=prob_dist, ax=axes[idx])\n",
    "    axes[idx].set_title('Iteration: '+str(iteration))\n",
    "    axes[idx].set_xlim((iteration*prob) - 4*np.sqrt(iteration*prob*(1-prob)),\n",
    "                       (iteration*prob) + 4*np.sqrt(iteration*prob*(1-prob)))\n",
    "    axes[idx].set_xlabel('count')\n",
    "plt.show()"
   ]
  },
  {
   "cell_type": "markdown",
   "metadata": {},
   "source": [
    "> **\"몇가지 규칙 발견!\"**\n",
    ">\n",
    "> **(1)** 시행 횟수($n$)가 증가하면 `정규분포와 비슷`해진다\n",
    ">\n",
    "> **(2)** 시행 횟수($n$)가 증가하면, `정규분포의 평균값` 정도로 `경우의 수`($n \\times p$)가 발생한다\n",
    "\n",
    "---\n",
    "\n",
    "**(1) 확률밀도함수(Probability Density Function):**\n",
    "\n",
    "\\begin{align*} \n",
    "f(X) = f(X=x) = \\frac{1}{\\sqrt{2\\pi} \\sigma}e^{-\\frac{(x-\\mu)^2}{2\\sigma^2}} ,\n",
    "(-\\infty<x<\\infty)\n",
    "\\end{align*} \n",
    "\n",
    "<center><img src='Image/Basic/Probability_HistogramDensity.png' width='500'></center>\n",
    "\n",
    "**(2) 예측 기대값(Expectation):** 예측되는 확률변수 분포의 `평균값`으로, 예상되는 `확률변수값`을 `확률 가중치`로 평균한 값 \n",
    "\n",
    "\\begin{align*} \n",
    "& \\text{\"정규분포의 예측 기대값\"} \\\\\n",
    "E(X) &= \\sum_{x=0}^{n} E(X=x) = \\sum_{x=0}^{n} x f(x) \\\\\n",
    "&= \\int_{-\\infty}^{\\infty} E(X=x) = \\int_{-\\infty}^{\\infty} x f(x) = \\mu\n",
    "\\end{align*} \n",
    "\n",
    "**(3) 예측 기대오차(Variance):** 예측되는 확률변수 분포의 `분산값`으로, 예상되는 `확률변수값`이 기대값으로부터 얼마나 퍼져있는지를 측정한 값\n",
    "\n",
    "\\begin{align*} \n",
    "& \\text{\"정규분포의 예측 기대오차\"} \\\\\n",
    "Var(X) &= E \\left[(X - \\mu)^2 \\right] = \\sum_{x=0}^{n} (x - \\mu)^2 f(x) \\\\\n",
    "&= \\int_{-\\infty}^{\\infty} (x - \\mu)^2 f(x) = \\sigma^2\n",
    "\\end{align*} "
   ]
  },
  {
   "cell_type": "markdown",
   "metadata": {},
   "source": [
    "## 확률분포의 종류\n",
    "\n",
    "**1) 이산형 vs 연속형:** 확률변수 `값의 갯수`에 따라 분류\n",
    "\n",
    "- **이산형(Discrete) 확률분포:** 확률변수 $X$의 값이 `셀수 있는 갯수`인 경우의 확률분포\n",
    "\n",
    "> **\"확률분포도를 그리는 `수학적 함수 표현식`\"**\n",
    "> - 확률`질량`함수(Probability `Mass` Function, PMF)\n",
    "> - 누적확률질량함수 $=$ 누적분포함수(Cumulative Distribution Function, CDF)\n",
    "\n",
    "- **연속형(Continuous) 확률분포:** 확률변수 $X$의 값이 `셀수 없는 갯수`인 경우의 확률분포\n",
    "\n",
    "> **\"확률분포도를 그리는 `수학적 함수 표현식`\"**\n",
    "> - 확률`밀도`함수(Probability `Density` Function, PMF)\n",
    "> - 누적확률밀도함수 $=$ 누적분포함수(Cumulative Distribution Function, CDF)\n",
    "\n",
    "| **분류** \t| **종류** \t| **대상 사건** \t|\n",
    "|:---:\t|:---\t|:---\t|\n",
    "| **이산형** \t| **베르누이분포** \t| 확률변수 값이 성공/실패의 `2가지 값`만 발생하는 경우의 분포 \t|\n",
    "|  \t| **이항분포** \t| 베르누이 분포를 여러 번 실행하여 `1회 성공`이 나타날때까지의 횟수 분포 \t|\n",
    "|  \t| **음이항분포** \t| 베르누이 분포를 여러 번 실행하여 $r$ `회 성공`이 나타날때까지의 횟수 분포 \t|\n",
    "|  \t| **기하분포** \t| 베르누이 분포를 여러 번 실행하여 첫번째 성공이 나타날 때까지 `실패할 횟수` 분포 \t|\n",
    "|  \t| **다항분포** \t| 확률변수 값이 `3가지 값`만 발생하는 경우의 분포 \t|\n",
    "| **연속형** \t| **포아송분포** \t| 이항분포를 연속형으로 변환한 것으로, 특정 시간/장소에 나타나는 `희귀사건(Rare Event) 개수`의 분포 \t|\n",
    "|  \t| **균등분포** \t| 확률변수 값들이 모두 `동일한 확률`을 가지는 분포 \t|\n",
    "|  \t| **정규분포** \t| 확률변수의 확률분포가 평균과 분산이 특정 값을 가지는 `종모양`의 분포 \t|\n",
    "|  \t| **표준정규분포** \t| 확률변수의 확률분포가 평균과 분산이 `0과 1을 가지는 종모양`의 분포 \t|\n",
    "|  \t| **지수분포** \t| 포아송분포에서 `1개의 희귀사건이 발생`할때까지의 대기시간 분포 \t|\n",
    "|  \t| **감마분포** \t| 포아송분포에서 $\\alpha$ `개의 희귀사건`이 발생할때까지의 대기시간 분포 \t|\n",
    "|  \t| **t분포** \t| `데이터의 개수가 적을 때` 표준정규분포보다 꼬리가 다소 두터운 종모양의 분포<br>두 집단의 평균이 동일한지 비교할 때 주로 사용 \t|\n",
    "|  \t| **F분포** \t| `자유도가 커질수록` 정규분포에 가까워지는 분포<br>두 집단의 분산이 동일한지 비교할 때 주로 사용 \t|\n",
    "|  \t| **카이제곱분포** \t| 표준정규분포를 따르는 확률분수의 `제곱합의 분포`<br>샘플과 전체의 분산이 동일한지 비교할 떄 주로 사용 \t|\n",
    "\n",
    "---\n",
    "\n",
    "**2) 관계 및 선택:** 분포들은 서로 `관련성`이 있고 `상황에따라` 다양하게 분류\n",
    "\n",
    "<center><img src='Image/Basic/Distribution_Diagram.png' width='700'>(https://medium.com/mytake/understanding-different-types-of-distributions-you-will-encounter-as-a-data-scientist-27ea4c375eec)</center>\n",
    "\n",
    "<!-- <center><img src='Image/Basic/Distribution_Diagram.gif' width='900'>(https://www.johndcook.com/blog/distribution_chart/)</center> -->\n",
    "\n",
    "<center><img src='Image/Basic/Distribution_Choices.png' width='900'>(https://www.magesblog.com/post/2011-12-01-fitting-distributions-with-r/)</center>\n",
    "\n",
    "- **참고자료1:** https://homepage.stat.uiowa.edu/~mbognar/\n",
    "- **참고자료2:** http://www.math.wm.edu/~leemis/chart/UDR/UDR.html\n"
   ]
  },
  {
   "cell_type": "markdown",
   "metadata": {},
   "source": [
    "## 나의 데이터는 어떤 확률분포?\n",
    "\n",
    "> **\"데이터 분석을 할 때,\"**\n",
    ">\n",
    "> - **분석할 데이터 샘플은 `어떤 확률분포를 따르는지 확인`이 필요하고,**\n",
    ">\n",
    "> - **데이터 분포에 따라 향후 `알고리즘에 입력될 데이터 전처리 방식`이 달라질 수 있음**\n",
    "\n",
    "<center><img src='Image/Basic/ProbabilityStatistics.png' width='600'></center>\n",
    "\n",
    "> **(1) 특정 확률분포를 가정하고 데이터에 적합한 평균과 분산과 같은 파라미터(Parameter)를 `통계적`으로 모델을 찾아낸 후,**\n",
    ">\n",
    "> - 모든 분포는 `1개 이상의 파라미터`를 갖고 있고, `확률분포의 모양`을 결정\n",
    ">\n",
    "> **(2) 주어진 모델의 분포와 실제 데이터분포가 얼마나 비슷한지 `확률적`으로 예측 및 검증**\n",
    "\n",
    "---\n",
    "\n",
    "**1) 통계적 분포 모델링:**\n",
    "\n",
    "| **비즈니스/사람 <br> 일상 반복** \t| **사람** \t| **분석** \t| **분석도구** \t|\n",
    "|:---:\t|:---\t|:---\t|:---\t|\n",
    "| **문제/호기심** \t| 어떤 현상을 보고 \t| 어떤 현상을 보고 알고 싶은 것을 정의 \t|  \t|\n",
    "| **관찰** \t| 왜 그런일이 벌어지는지 <br> 경험/직감/인터넷으로 짧게 공들이고 \t| 왜 그런일이 벌어지는지 <br> 정량적 및 체계적으로 추측 \t| 데이터 시각화, 기술적 분석, <br> 데이터집계, 상관분석 등 \t|\n",
    "| **주장/의사결정** \t| 그 이유를 대충 근거를 들어 주장한 후 \t| 통계적 검정을 통해 주장한 후 \t| 통계추론, 확률적 검정 \t|\n",
    "| **검증** \t| 나와 의견이 같으면 좋은사람 아니면 욕함 \t| 주장이 충분히 합리적이면, <br> 알고리즘을 이용하여 그 현상을 재현해내며 주장을 설명 \t| 확률통계, 기계학습, 딥러닝, <br> 지도학습, 비지도학습, 강화학습, 검증지표 등 \t|\n",
    "| **해결** \t| ??? \t| 알고 싶은 것을 해결하고 미래에도 사용 \t|  \t|\n",
    "\n",
    "> (1) `어떤 종류의 현상`을 관찰한 것인지 또는 `데이터의 형태`를 통해 이미 알고 있는 확률분포 가정/모델링\n",
    ">\n",
    "> | **데이터 형태** \t| **분포 후보** \t|\n",
    "|:---\t|:---\t|\n",
    "| 데이터는 0 또는 1 \t| 베르누이분포 \t|\n",
    "| 데이터는 0 또는 양수 \t| 로그정규분포, 감마분포, F분포, 카이제곱분포, 지수분포 등 \t|\n",
    "| 데이터는 0과 1사이의 실수 \t| 베타분포 \t|\n",
    "| 데이터는 제한없는 실수 \t| 정규분포, t분포 등 \t|\n",
    ">\n",
    "> (2) 데이터의 `히스토그램`을 통해 가장 비슷한 분포 가정/모델링\n",
    ">\n",
    "> - **히스토그램(Histogram):** 데이터의 `구간을 나누어` 각 구간에 속하는 `데이터의 갯수 표현`"
   ]
  },
  {
   "cell_type": "code",
   "execution_count": 3,
   "metadata": {
    "ExecuteTime": {
     "end_time": "2022-07-02T10:39:46.816839Z",
     "start_time": "2022-07-02T10:39:46.169805Z"
    }
   },
   "outputs": [
    {
     "data": {
      "image/png": "[encoded data removed]",
      "text/plain": [
       "<Figure size 720x288 with 1 Axes>"
      ]
     },
     "metadata": {
      "needs_background": "light"
     },
     "output_type": "display_data"
    }
   ],
   "source": [
    "import numpy as np\n",
    "import matplotlib.pyplot as plt\n",
    "import seaborn as sns\n",
    "\n",
    "# 임의 데이터 생성\n",
    "shape, scale = 2, 2    # mean=4, std=2*sqrt(2)\n",
    "sample = np.random.gamma(shape, scale, size=100)\n",
    "\n",
    "# 임의 데이터 시각화\n",
    "plt.figure(figsize=(10,4))\n",
    "sns.histplot(data=sample, kde=True)\n",
    "plt.show()"
   ]
  },
  {
   "cell_type": "markdown",
   "metadata": {},
   "source": [
    "<center><img src='Image/Basic/Distribution_Diagram.png' width='700'>(https://medium.com/mytake/understanding-different-types-of-distributions-you-will-encounter-as-a-data-scientist-27ea4c375eec)</center>\n",
    "\n",
    "---\n",
    "\n",
    "**2) 확률적 분포 예측 및 검증:** \n",
    "\n",
    "> - 주어진 모델의 분포와 실제 데이터분포가 얼마나 비슷한지 `확률적`으로 예측 및 검증\n",
    ">\n",
    "> <center><img src='Image/Basic/Distribution_KSTest.png' width='700'>(https://medium.com/@pabaldonedo/kolmogorov-smirnov-test-may-not-be-doing-what-you-think-when-parameters-are-estimated-from-the-data-2d5c3303a020)</center>\n",
    ">\n",
    "> $\\rightarrow$ `Kolmogorov-Smirnov Test`\n",
    ">\n",
    "> $\\rightarrow$ 모델과 데이터의 분포 차이가 비슷할수록 `가장 큰 p-value 반환`"
   ]
  },
  {
   "cell_type": "code",
   "execution_count": 4,
   "metadata": {
    "ExecuteTime": {
     "end_time": "2022-07-02T10:39:47.181024Z",
     "start_time": "2022-07-02T10:39:46.818839Z"
    }
   },
   "outputs": [
    {
     "data": {
      "image/png": "[encoded data removed]",
      "text/plain": [
       "<Figure size 720x288 with 1 Axes>"
      ]
     },
     "metadata": {
      "needs_background": "light"
     },
     "output_type": "display_data"
    },
    {
     "name": "stderr",
     "output_type": "stream",
     "text": [
      "C:\\Users\\KK\\anaconda3\\lib\\site-packages\\scipy\\stats\\_continuous_distns.py:639: RuntimeWarning: invalid value encountered in sqrt\n",
      "  sk = 2*(b-a)*np.sqrt(a + b + 1) / (a + b + 2) / np.sqrt(a*b)\n",
      "C:\\Users\\KK\\anaconda3\\lib\\site-packages\\scipy\\optimize\\minpack.py:175: RuntimeWarning: The iteration is not making good progress, as measured by the \n",
      "  improvement from the last ten iterations.\n",
      "  warnings.warn(msg, RuntimeWarning)\n"
     ]
    },
    {
     "data": {
      "text/html": [
       "<div>\n",
       "<style scoped>\n",
       "    .dataframe tbody tr th:only-of-type {\n",
       "        vertical-align: middle;\n",
       "    }\n",
       "\n",
       "    .dataframe tbody tr th {\n",
       "        vertical-align: top;\n",
       "    }\n",
       "\n",
       "    .dataframe thead th {\n",
       "        text-align: right;\n",
       "    }\n",
       "</style>\n",
       "<table border=\"1\" class=\"dataframe\">\n",
       "  <thead>\n",
       "    <tr style=\"text-align: right;\">\n",
       "      <th></th>\n",
       "      <th>Distribution</th>\n",
       "      <th>p-value</th>\n",
       "    </tr>\n",
       "  </thead>\n",
       "  <tbody>\n",
       "    <tr>\n",
       "      <th>5</th>\n",
       "      <td>beta</td>\n",
       "      <td>0.862378</td>\n",
       "    </tr>\n",
       "    <tr>\n",
       "      <th>3</th>\n",
       "      <td>chi2</td>\n",
       "      <td>0.857115</td>\n",
       "    </tr>\n",
       "    <tr>\n",
       "      <th>4</th>\n",
       "      <td>gamma</td>\n",
       "      <td>0.857084</td>\n",
       "    </tr>\n",
       "    <tr>\n",
       "      <th>1</th>\n",
       "      <td>t</td>\n",
       "      <td>0.234036</td>\n",
       "    </tr>\n",
       "    <tr>\n",
       "      <th>0</th>\n",
       "      <td>norm</td>\n",
       "      <td>0.037105</td>\n",
       "    </tr>\n",
       "    <tr>\n",
       "      <th>2</th>\n",
       "      <td>expon</td>\n",
       "      <td>0.016945</td>\n",
       "    </tr>\n",
       "  </tbody>\n",
       "</table>\n",
       "</div>"
      ],
      "text/plain": [
       "  Distribution   p-value\n",
       "5         beta  0.862378\n",
       "3         chi2  0.857115\n",
       "4        gamma  0.857084\n",
       "1            t  0.234036\n",
       "0         norm  0.037105\n",
       "2        expon  0.016945"
      ]
     },
     "metadata": {},
     "output_type": "display_data"
    },
    {
     "name": "stdout",
     "output_type": "stream",
     "text": [
      "제일 비슷한 분포:  beta\n"
     ]
    }
   ],
   "source": [
    "import numpy as np\n",
    "import pandas as pd\n",
    "import scipy.stats\n",
    "import matplotlib.pyplot as plt\n",
    "import seaborn as sns\n",
    "\n",
    "# 임의 데이터 생성\n",
    "shape, scale = 2, 2    # mean=4, std=2*sqrt(2)\n",
    "sample = np.random.gamma(shape, scale, size=100)\n",
    "\n",
    "# 임의 데이터 시각화\n",
    "plt.figure(figsize=(10,4))\n",
    "sns.histplot(data=sample, kde=True)\n",
    "plt.show()\n",
    "\n",
    "# 분포 모델 후보\n",
    "dist_list = ['norm', 't', 'expon', 'chi2', 'gamma', 'beta']\n",
    "\n",
    "# 모델과 데이터 비교 검증\n",
    "result = []\n",
    "for dist in dist_list:\n",
    "    model = getattr(scipy.stats, dist)    # 분포의 특징 불러오기\n",
    "    params = model.fit(sample)    # 데이터를 적합 및 모수 저장\n",
    "    ks_stat, p_value = scipy.stats.kstest(sample, dist, params)    # 확률적 검증\n",
    "    result.append([dist, p_value])    # 결과 누적 정리\n",
    "result = pd.DataFrame(result, columns=['Distribution', 'p-value'])\n",
    "result = result.sort_values(by='p-value', ascending=False)\n",
    "\n",
    "# 최종 결과\n",
    "display(result)\n",
    "print('제일 비슷한 분포: ', result.iloc[0,0])   "
   ]
  },
  {
   "cell_type": "markdown",
   "metadata": {},
   "source": [
    "---\n",
    "\n",
    "**3) 정리:** 자연현상의 대부분은 `정규분포`이며 그렇지 않은 경우들도 존재\n",
    "\n",
    "> **(1) 사건의 확률분포가 정규분포이기 위해선 `각 사건들이 영향을 주지 않는 독립`이어야 하기 때문에, 빅데이터임에도 정규분포가 아닌 경우들이 존재**\n",
    ">\n",
    "> **(2) 대부분의 사건이 정규분포일 수 있지만, `현실에 존재하는 많은 사건들`을 분석/연구하여 `다양한 확률분포`를 규명**\n",
    ">\n",
    "> **(3) 사건들이 독립이 아닐 경우를 포함하여 다양한 분포종류들이 있으며 `비모수 확률분포`나 `베이지안 확률`을 사용하여 분석하는 것이 바람직**\n",
    ">\n",
    "> **(4) 그럼에도 정규분포를 사용하는 이유는, `자연현상의 대부분이 정규분포`이며 일부 변환을 통해 쉽게 `정규분포에 근사되도록 유도`할 수 있고 평균과 분산만 할면 `확률을 쉽게 추정`할 수 있는 심플함**\n",
    ">\n",
    "> **(5) 순수학자들은 `정규분포(Normal Distribution)`이라고 말하는 경향이 있고, 응용학자들은 `가우시안분포(Gaussian Distribution)`이라고 말하는 경향**\n",
    "\n",
    "---\n",
    "\n",
    "**4) 모수적 모델 vs 비모수적 모델 vs 세미모수적 모델**\n",
    "\n",
    "- **모수적 모델:**\n",
    "\n",
    "> - `특정 확률분포`를 기반하여 `모수 추정`하는 과정이 포함되어 있는 모델/알고리즘으로, `모수의 형태`를 확률분포로 가정\n",
    "> - `선형회귀모델`, `로지스틱회귀모델`, `Simple Neural Networks` 등\n",
    "> - 선형회귀모델의 경우, 데이터가 `정규분포`를 따른다는 가정하에 데이터를 설명하기에 적합\n",
    "> - `간단하고 빠르고 스몰데이터에도 잘 작동`하지만 `제한적 성능과 복잡성 한계`\n",
    "\n",
    "- **비모수적 모델:**\n",
    "\n",
    "> - `모수의 형태`를 확률분포로 가정하지 않고 `주어진 데이터에서 직접 확률 계산`하여 검증하는 모델/알고리즘\n",
    "> - `KNN`, `Random Forest` 등\n",
    "> - `유연하고 강력`하지만 `많은 데이터를 요구하고 데이터 과적합 가능성`\n",
    "\n",
    "- **세미모수적 모델:**\n",
    "\n",
    "> - 모수적 및 비모수적 모델을 상충시켜 만든 것으로 일부에는 `모수가 존재`하지만 확률분포를 `가정하지 않음`\n",
    "> - 추정해야할 `가중치 모수`는 존재하지만 특정 확률분포와 무관하게 추정\n",
    "> - `SVM`, `Neural Networks` 등\n"
   ]
  },
  {
   "cell_type": "markdown",
   "metadata": {},
   "source": [
    "# **반복되는 사건의 실제 확률분포는?**"
   ]
  },
  {
   "cell_type": "markdown",
   "metadata": {},
   "source": [
    "## 반복되는 동전던지기의 확률분포 \n",
    "\n",
    "- 진짜 `동전을 1회 던지면` 어떤 면이 나오게 될까?\n",
    "\n",
    "> - **이론적 평균:** \n",
    "\\begin{align*}\n",
    "0 \\times \\frac{1}{2} + 1 \\times \\frac{1}{2} = np = p = 0.5\n",
    "\\end{align*}\n",
    "> - **이론적 분산:** \n",
    "\\begin{align*}\n",
    "(0-0.5)^2 \\times \\frac{1}{2} + (1-0.5)^2 \\times \\frac{1}{2} = npq = pq = 0.25\n",
    "\\end{align*}\n"
   ]
  },
  {
   "cell_type": "code",
   "execution_count": 5,
   "metadata": {
    "ExecuteTime": {
     "end_time": "2022-07-02T10:39:47.767027Z",
     "start_time": "2022-07-02T10:39:47.181996Z"
    }
   },
   "outputs": [
    {
     "data": {
      "image/png": "[encoded data removed]",
      "text/plain": [
       "<Figure size 720x288 with 2 Axes>"
      ]
     },
     "metadata": {
      "needs_background": "light"
     },
     "output_type": "display_data"
    },
    {
     "data": {
      "image/png": "[encoded data removed]",
      "text/plain": [
       "<Figure size 720x288 with 2 Axes>"
      ]
     },
     "metadata": {
      "needs_background": "light"
     },
     "output_type": "display_data"
    }
   ],
   "source": [
    "import numpy as np\n",
    "import pandas as pd\n",
    "import random\n",
    "import matplotlib.pyplot as plt\n",
    "import seaborn as sns\n",
    "\n",
    "# 이벤트 확률 추출\n",
    "def events_distribution(event, prob, iteration):\n",
    "    dist_prob = []\n",
    "    for trial in range(iteration):\n",
    "        events = random.choices(event, weights=prob, k=100)\n",
    "        dist_prob.append(np.mean(events))\n",
    "    return dist_prob\n",
    "\n",
    "# 동전던지기 확률분포 시각화\n",
    "event = [0, 1]\n",
    "prob = [0.5, 0.5]\n",
    "\n",
    "fig, axes = plt.subplots(1,2, figsize=(10,4))\n",
    "iteration_list = [10, 50]\n",
    "for idx, iteration in enumerate(iteration_list):\n",
    "    prob_dist = events_distribution(event, prob, iteration)\n",
    "    prob_dist = pd.DataFrame(prob_dist, columns=['prob'])\n",
    "    sns.histplot(data=prob_dist, x='prob', ax=axes[idx])\n",
    "    axes[idx].set_title('Iteration: '+str(iteration))\n",
    "    axes[idx].set_xlabel('Mean: {:0.2f}'.format(prob_dist.mean()[0])+' \\\n",
    "    + Variance: {:0.6f}'.format(prob_dist.var()[0]))\n",
    "plt.show()\n",
    "fig, axes = plt.subplots(1,2, figsize=(10,4))\n",
    "iteration_list = [100, 500]\n",
    "for idx, iteration in enumerate(iteration_list):\n",
    "    prob_dist = events_distribution(event, prob, iteration)\n",
    "    prob_dist = pd.DataFrame(prob_dist, columns=['prob'])\n",
    "    sns.histplot(data=prob_dist, x='prob', ax=axes[idx])\n",
    "    axes[idx].set_title('Iteration: '+str(iteration))\n",
    "    axes[idx].set_xlabel('Mean: {:0.2f}'.format(prob_dist.mean()[0])+' \\\n",
    "    + Variance: {:0.6f}'.format(prob_dist.var()[0]))\n",
    "plt.show()"
   ]
  },
  {
   "cell_type": "markdown",
   "metadata": {
    "ExecuteTime": {
     "end_time": "2022-06-29T14:26:56.754574Z",
     "start_time": "2022-06-29T14:26:56.744575Z"
    }
   },
   "source": [
    "> **\"몇가지 규칙 발견!\"**\n",
    ">\n",
    "> **(1)** 시행 횟수($n$)가 증가하면 `정규분포와 비슷`해진다\n",
    ">\n",
    "> **(2)** 시행 횟수($n$)가 증가하면, `정규분포 평균값` 정도의 `확률`($p=0.5$)로 발생한다\n",
    ">\n",
    "> **(3)** 시행 횟수($n$)가 증가하면, `정규분포의 분산값` 정도로 `확률의 오차`($\\frac{pq}{n}=\\frac{0.25}{n}$)가 발생한다\n",
    "\n",
    "---"
   ]
  },
  {
   "cell_type": "markdown",
   "metadata": {},
   "source": [
    "- 만약 `동전이 더러워지고 찌그러져서` 앞면이 나올 확률이 `0.4`라면 어떤 면이 나오게 될까?\n",
    "\n",
    "> - **이론적 평균:** \n",
    "\\begin{align*}\n",
    "np = 0.4\n",
    "\\end{align*}\n",
    "> - **이론적 분산:** \n",
    "\\begin{align*}\n",
    "npq = 0.24\n",
    "\\end{align*}\n"
   ]
  },
  {
   "cell_type": "code",
   "execution_count": 6,
   "metadata": {
    "ExecuteTime": {
     "end_time": "2022-07-02T10:39:48.263994Z",
     "start_time": "2022-07-02T10:39:47.767995Z"
    }
   },
   "outputs": [
    {
     "data": {
      "image/png": "[encoded data removed]",
      "text/plain": [
       "<Figure size 720x288 with 2 Axes>"
      ]
     },
     "metadata": {
      "needs_background": "light"
     },
     "output_type": "display_data"
    },
    {
     "data": {
      "image/png": "[encoded data removed]",
      "text/plain": [
       "<Figure size 720x288 with 2 Axes>"
      ]
     },
     "metadata": {
      "needs_background": "light"
     },
     "output_type": "display_data"
    }
   ],
   "source": [
    "import numpy as np\n",
    "import pandas as pd\n",
    "import random\n",
    "import matplotlib.pyplot as plt\n",
    "import seaborn as sns\n",
    "\n",
    "# 이벤트 확률 추출\n",
    "def events_distribution(event, prob, iteration):\n",
    "    dist_prob = []\n",
    "    for trial in range(iteration):\n",
    "        events = random.choices(event, weights=prob, k=100)\n",
    "        dist_prob.append(np.mean(events))\n",
    "    return dist_prob\n",
    "\n",
    "# 찌그러진 동전던지기 확률분포 시각화\n",
    "event = [0, 1]\n",
    "prob = [0.6, 0.4]\n",
    "\n",
    "fig, axes = plt.subplots(1,2, figsize=(10,4))\n",
    "iteration_list = [10, 50]\n",
    "for idx, iteration in enumerate(iteration_list):\n",
    "    prob_dist = events_distribution(event, prob, iteration)\n",
    "    prob_dist = pd.DataFrame(prob_dist, columns=['prob'])\n",
    "    sns.histplot(data=prob_dist, x='prob', ax=axes[idx])\n",
    "    axes[idx].set_title('Iteration: '+str(iteration))\n",
    "    axes[idx].set_xlabel('Mean: {:0.2f}'.format(prob_dist.mean()[0])+' \\\n",
    "    + Variance: {:0.6f}'.format(prob_dist.var()[0]))\n",
    "plt.show()\n",
    "fig, axes = plt.subplots(1,2, figsize=(10,4))\n",
    "iteration_list = [100, 500]\n",
    "for idx, iteration in enumerate(iteration_list):\n",
    "    prob_dist = events_distribution(event, prob, iteration)\n",
    "    prob_dist = pd.DataFrame(prob_dist, columns=['prob'])\n",
    "    sns.histplot(data=prob_dist, x='prob', ax=axes[idx])\n",
    "    axes[idx].set_title('Iteration: '+str(iteration))\n",
    "    axes[idx].set_xlabel('Mean: {:0.2f}'.format(prob_dist.mean()[0])+' \\\n",
    "    + Variance: {:0.6f}'.format(prob_dist.var()[0]))\n",
    "plt.show()"
   ]
  },
  {
   "cell_type": "code",
   "execution_count": 7,
   "metadata": {
    "ExecuteTime": {
     "end_time": "2022-07-02T10:39:48.792024Z",
     "start_time": "2022-07-02T10:39:48.265994Z"
    }
   },
   "outputs": [
    {
     "data": {
      "image/png": "[encoded data removed]",
      "text/plain": [
       "<Figure size 720x288 with 2 Axes>"
      ]
     },
     "metadata": {
      "needs_background": "light"
     },
     "output_type": "display_data"
    }
   ],
   "source": [
    "import numpy as np\n",
    "import pandas as pd\n",
    "import random\n",
    "import matplotlib.pyplot as plt\n",
    "import seaborn as sns\n",
    "\n",
    "# 이벤트 확률 추출\n",
    "def events_distribution(event, prob, iteration):\n",
    "    dist_prob = []\n",
    "    for trial in range(iteration):\n",
    "        events = random.choices(event, weights=prob, k=100)\n",
    "        dist_prob.append(np.mean(events))\n",
    "    return dist_prob\n",
    "\n",
    "# 찌그러진 동전던지기 확률분포 시각화\n",
    "event = [0, 1]\n",
    "prob = [0.6, 0.4]\n",
    "\n",
    "fig, axes = plt.subplots(1,2, figsize=(10,4))\n",
    "iteration_list = [1000, 5000]\n",
    "for idx, iteration in enumerate(iteration_list):\n",
    "    prob_dist = events_distribution(event, prob, iteration)\n",
    "    prob_dist = pd.DataFrame(prob_dist, columns=['prob'])\n",
    "    sns.histplot(data=prob_dist, x='prob', ax=axes[idx])\n",
    "    axes[idx].set_title('Iteration: '+str(iteration))\n",
    "    axes[idx].set_xlabel('Mean: {:0.2f}'.format(prob_dist.mean()[0])+' \\\n",
    "    + Variance: {:0.6f}'.format(prob_dist.var()[0]))\n",
    "plt.show()"
   ]
  },
  {
   "cell_type": "markdown",
   "metadata": {},
   "source": [
    "> **\"몇가지 규칙 발견!\"**\n",
    ">\n",
    "> **(1)** 시행 횟수($n$)가 증가하면 `정규분포와 비슷`해진다\n",
    ">\n",
    "> **(2)** 시행 횟수($n$)가 증가하면, `정규분포 평균값` 정도의 `확률`($p=0.4$)로 발생한다\n",
    ">\n",
    "> **(3)** 시행 횟수($n$)가 증가하면, `정규분포의 분산값` 정도로 `확률의 오차`($\\frac{pq}{n}=\\frac{0.24}{n}$)가 발생한다\n"
   ]
  },
  {
   "cell_type": "markdown",
   "metadata": {},
   "source": [
    "## 반복되는 주사위던지기의 확률분포\n",
    "\n",
    "- 진짜 `주사위를 1회 던지면` 어떤 면이 나오게 될까?\n",
    "\n",
    "> - **이론적 평균:** \n",
    "\\begin{align*}\n",
    "1 \\times \\frac{1}{6} + 2 \\times \\frac{1}{6} + 3 \\times \\frac{1}{6} + 4 \\times \\frac{1}{6} + 5 \\times \\frac{1}{6} + 6 \\times \\frac{1}{6} = 3.5\n",
    "\\end{align*}\n",
    "> - **이론적 분산:** \n",
    "\\begin{align*}\n",
    "(1-3.5)^2 \\times \\frac{1}{6}+ (2-3.5)^2 \\times \\frac{1}{6} + (3-3.5)^2 \\times \\frac{1}{6} + (4-3.5)^2 \\times \\frac{1}{6} + (5-3.5)^2 \\times \\frac{1}{6} + (6-3.5)^2 \\times \\frac{1}{6} \\approx 2.92\n",
    "\\end{align*}\n"
   ]
  },
  {
   "cell_type": "code",
   "execution_count": 8,
   "metadata": {
    "ExecuteTime": {
     "end_time": "2022-07-02T10:39:49.321479Z",
     "start_time": "2022-07-02T10:39:48.792997Z"
    }
   },
   "outputs": [
    {
     "data": {
      "image/png": "[encoded data removed]",
      "text/plain": [
       "<Figure size 720x288 with 2 Axes>"
      ]
     },
     "metadata": {
      "needs_background": "light"
     },
     "output_type": "display_data"
    },
    {
     "data": {
      "image/png": "[encoded data removed]",
      "text/plain": [
       "<Figure size 720x288 with 2 Axes>"
      ]
     },
     "metadata": {
      "needs_background": "light"
     },
     "output_type": "display_data"
    }
   ],
   "source": [
    "import numpy as np\n",
    "import pandas as pd\n",
    "import random\n",
    "import matplotlib.pyplot as plt\n",
    "import seaborn as sns\n",
    "\n",
    "# 이벤트 확률 추출\n",
    "def events_distribution(event, prob, iteration):\n",
    "    dist_prob = []\n",
    "    for trial in range(iteration):\n",
    "        events = random.choices(event, weights=prob, k=100)\n",
    "        dist_prob.append(np.mean(events))\n",
    "    return dist_prob\n",
    "\n",
    "# 주사위던지기 확률분포 시각화\n",
    "event = [1, 2, 3, 4, 5, 6]\n",
    "prob = [1/6, 1/6, 1/6, 1/6, 1/6, 1/6]\n",
    "\n",
    "fig, axes = plt.subplots(1,2, figsize=(10,4))\n",
    "iteration_list = [10, 50]\n",
    "for idx, iteration in enumerate(iteration_list):\n",
    "    prob_dist = events_distribution(event, prob, iteration)\n",
    "    prob_dist = pd.DataFrame(prob_dist, columns=['prob'])\n",
    "    sns.histplot(data=prob_dist, x='prob', ax=axes[idx])\n",
    "    axes[idx].set_title('Iteration: '+str(iteration))\n",
    "    axes[idx].set_xlabel('Mean: {:0.2f}'.format(prob_dist.mean()[0])+' \\\n",
    "    + Variance: {:0.6f}'.format(prob_dist.var()[0]))\n",
    "plt.show()\n",
    "fig, axes = plt.subplots(1,2, figsize=(10,4))\n",
    "iteration_list = [100, 500]\n",
    "for idx, iteration in enumerate(iteration_list):\n",
    "    prob_dist = events_distribution(event, prob, iteration)\n",
    "    prob_dist = pd.DataFrame(prob_dist, columns=['prob'])\n",
    "    sns.histplot(data=prob_dist, x='prob', ax=axes[idx])\n",
    "    axes[idx].set_title('Iteration: '+str(iteration))\n",
    "    axes[idx].set_xlabel('Mean: {:0.2f}'.format(prob_dist.mean()[0])+' \\\n",
    "    + Variance: {:0.6f}'.format(prob_dist.var()[0]))\n",
    "plt.show()"
   ]
  },
  {
   "cell_type": "markdown",
   "metadata": {},
   "source": [
    "> **\"몇가지 규칙 발견!\"**\n",
    ">\n",
    "> **(1)** 시행 횟수($n$)가 증가하면 `정규분포와 비슷`해진다\n",
    ">\n",
    "> **(2)** 시행 횟수($n$)가 증가하면, `정규분포 평균값` 정도의 `확률`($\\mu=3.5$)로 발생한다\n",
    ">\n",
    "> **(3)** 시행 횟수($n$)가 증가하면, `정규분포의 분산값` 정도로 `확률의 오차`($\\frac{\\sigma^2}{n}=\\frac{2.92}{n}$)가 발생한다\n",
    "\n",
    "<span style=\"color:red\">$\\Rightarrow$ **\"어떠한 사건이든 예상되는 사건은 반복적으로 시행하면($n$이 커지면) 정규분포의 발생확률을 따라, 확률변수의 평균($\\bar{X} = \\mu$)에 가까워지고 오차는 확률변수의 분산($\\frac{\\sigma^2}{n}$)에 가까워진다\"**</span>"
   ]
  },
  {
   "cell_type": "markdown",
   "metadata": {},
   "source": [
    "## 빅데이터처럼 많은 경우의 수에서의 확률분포\n",
    "\n",
    "> **\"어떤 사건이든 `확률변수의 분포`를 통해 `사건의 확률 예상 가능`\"**\n",
    "\n",
    "**1) 정규분포를 따르는 사건이 다양한($n$개) 경우의 확률분포**"
   ]
  },
  {
   "cell_type": "code",
   "execution_count": 9,
   "metadata": {
    "ExecuteTime": {
     "end_time": "2022-07-02T10:39:49.786476Z",
     "start_time": "2022-07-02T10:39:49.324476Z"
    }
   },
   "outputs": [
    {
     "data": {
      "image/png": "[encoded data removed]",
      "text/plain": [
       "<Figure size 720x288 with 2 Axes>"
      ]
     },
     "metadata": {
      "needs_background": "light"
     },
     "output_type": "display_data"
    },
    {
     "data": {
      "image/png": "[encoded data removed]",
      "text/plain": [
       "<Figure size 720x288 with 2 Axes>"
      ]
     },
     "metadata": {
      "needs_background": "light"
     },
     "output_type": "display_data"
    }
   ],
   "source": [
    "import numpy as np\n",
    "import pandas as pd\n",
    "import matplotlib.pyplot as plt\n",
    "import seaborn as sns\n",
    "\n",
    "# 이벤트 확률 추출\n",
    "def events_normaldist(iteration):\n",
    "    dist_prob = []\n",
    "    for trial in range(iteration):\n",
    "        events = np.random.normal(size=100, loc=0, scale=1)\n",
    "        dist_prob.append(np.mean(events))\n",
    "    return dist_prob\n",
    "\n",
    "# 정규분포(평균=0, 분산=1) 사건들의 확률분포 시각화\n",
    "fig, axes = plt.subplots(1,2, figsize=(10,4))\n",
    "iteration_list = [10, 50]\n",
    "for idx, iteration in enumerate(iteration_list):\n",
    "    prob_dist = events_normaldist(iteration)\n",
    "    prob_dist = pd.DataFrame(prob_dist, columns=['prob'])\n",
    "    sns.histplot(data=prob_dist, x='prob', ax=axes[idx])\n",
    "    axes[idx].set_title('Iteration: '+str(iteration))\n",
    "    axes[idx].set_xlabel('Mean: {:0.2f}'.format(prob_dist.mean()[0])+' \\\n",
    "    + Variance: {:0.6f}'.format(prob_dist.var()[0]))\n",
    "plt.show()\n",
    "fig, axes = plt.subplots(1,2, figsize=(10,4))\n",
    "iteration_list = [100, 500]\n",
    "for idx, iteration in enumerate(iteration_list):\n",
    "    prob_dist = events_normaldist(iteration)\n",
    "    prob_dist = pd.DataFrame(prob_dist, columns=['prob'])\n",
    "    sns.histplot(data=prob_dist, x='prob', ax=axes[idx])\n",
    "    axes[idx].set_title('Iteration: '+str(iteration))\n",
    "    axes[idx].set_xlabel('Mean: {:0.2f}'.format(prob_dist.mean()[0])+' \\\n",
    "    + Variance: {:0.6f}'.format(prob_dist.var()[0]))\n",
    "plt.show()"
   ]
  },
  {
   "cell_type": "markdown",
   "metadata": {},
   "source": [
    "> **\"몇가지 규칙 발견!\"**\n",
    ">\n",
    "> **(1)** 시행 횟수($n$)가 증가하면 `정규분포와 비슷`해진다\n",
    ">\n",
    "> **(2)** 시행 횟수($n$)가 증가하면, `정규분포 평균값` 정도의 `확률`($\\mu=0$)로 발생한다\n",
    ">\n",
    "> **(3)** 시행 횟수($n$)가 증가하면, `정규분포의 분산값` 정도로 `확률의 오차`($\\frac{\\sigma^2}{n}=\\frac{1}{n}$)가 발생한다\n",
    "\n",
    "---\n",
    "\n",
    "**2) 비정규분포를 따르는 사건이 다양한($n$개) 경우의 확률분포**\n",
    "\n",
    "- 빅데이터에서는 `정규분포가 아닌 특이한 경우`들도 존재"
   ]
  },
  {
   "cell_type": "code",
   "execution_count": 10,
   "metadata": {
    "ExecuteTime": {
     "end_time": "2022-07-02T10:39:49.891508Z",
     "start_time": "2022-07-02T10:39:49.787477Z"
    }
   },
   "outputs": [
    {
     "data": {
      "image/png": "[encoded data removed]",
      "text/plain": [
       "<Figure size 432x288 with 1 Axes>"
      ]
     },
     "metadata": {
      "needs_background": "light"
     },
     "output_type": "display_data"
    }
   ],
   "source": [
    "import numpy as np\n",
    "import matplotlib.pyplot as plt\n",
    "  \n",
    "sample = np.random.chisquare(1, 1000)\n",
    "plt.hist(sample, 10, density = True)\n",
    "plt.show()"
   ]
  },
  {
   "cell_type": "markdown",
   "metadata": {},
   "source": [
    "- 특이한 경우도 `반복을 한다면?`"
   ]
  },
  {
   "cell_type": "code",
   "execution_count": 11,
   "metadata": {
    "ExecuteTime": {
     "end_time": "2022-07-02T10:39:50.342511Z",
     "start_time": "2022-07-02T10:39:49.892479Z"
    }
   },
   "outputs": [
    {
     "data": {
      "image/png": "[encoded data removed]",
      "text/plain": [
       "<Figure size 720x288 with 2 Axes>"
      ]
     },
     "metadata": {
      "needs_background": "light"
     },
     "output_type": "display_data"
    },
    {
     "data": {
      "image/png": "[encoded data removed]",
      "text/plain": [
       "<Figure size 720x288 with 2 Axes>"
      ]
     },
     "metadata": {
      "needs_background": "light"
     },
     "output_type": "display_data"
    }
   ],
   "source": [
    "import numpy as np\n",
    "import pandas as pd\n",
    "import matplotlib.pyplot as plt\n",
    "import seaborn as sns\n",
    "\n",
    "# 이벤트 확률 추출\n",
    "def events_chidist(iteration):\n",
    "    dist_prob = []\n",
    "    for trial in range(iteration):\n",
    "        events = np.random.chisquare(1, 100)\n",
    "        dist_prob.append(np.mean(events))\n",
    "    return dist_prob\n",
    "\n",
    "# 정규분포(평균=0, 분산=1) 사건들의 확률분포 시각화\n",
    "fig, axes = plt.subplots(1,2, figsize=(10,4))\n",
    "iteration_list = [10, 20]\n",
    "for idx, iteration in enumerate(iteration_list):\n",
    "    prob_dist = events_chidist(iteration)\n",
    "    prob_dist = pd.DataFrame(prob_dist, columns=['prob'])\n",
    "    sns.histplot(data=prob_dist, x='prob', ax=axes[idx])\n",
    "    axes[idx].set_title('Iteration: '+str(iteration))\n",
    "    axes[idx].set_xlabel('Mean: {:0.2f}'.format(prob_dist.mean()[0])+' \\\n",
    "    + Variance: {:0.6f}'.format(prob_dist.var()[0]))\n",
    "plt.show()\n",
    "fig, axes = plt.subplots(1,2, figsize=(10,4))\n",
    "iteration_list = [50, 100]\n",
    "for idx, iteration in enumerate(iteration_list):\n",
    "    prob_dist = events_chidist(iteration)\n",
    "    prob_dist = pd.DataFrame(prob_dist, columns=['prob'])\n",
    "    sns.histplot(data=prob_dist, x='prob', ax=axes[idx])\n",
    "    axes[idx].set_title('Iteration: '+str(iteration))\n",
    "    axes[idx].set_xlabel('Mean: {:0.2f}'.format(prob_dist.mean()[0])+' \\\n",
    "    + Variance: {:0.6f}'.format(prob_dist.var()[0]))\n",
    "plt.show()"
   ]
  },
  {
   "cell_type": "markdown",
   "metadata": {},
   "source": [
    "> **\"몇가지 규칙 발견!\"**\n",
    ">\n",
    "> **(1)** 시행 횟수($n$)가 증가하면 `정규분포와 비슷`해진다\n",
    ">\n",
    "> **(2)** 시행 횟수($n$)가 증가하면, `정규분포 평균값` 정도의 `확률`($\\mu=1$)로 발생한다\n",
    ">\n",
    "> **(3)** 시행 횟수($n$)가 증가하면, `정규분포의 분산값` 정도로 `확률의 오차`($\\frac{\\sigma^2}{n}=\\frac{2}{n}$)가 발생한다"
   ]
  },
  {
   "cell_type": "markdown",
   "metadata": {},
   "source": [
    "## 많은 경우를 담는 어떠한 사건이든 반복되면 정규분포!\n",
    "\n",
    "**1) 예시 정리:**\n",
    "\n",
    "> **(1) 데이터가 어떻게 생겼든(정규분포든 아니든) 어떠한 사건이라도 반복적으로(빅데이터 일수록) 추정하면 `정규분포의 확률!`** [Simulation](https://onlinestatbook.com/stat_sim/sampling_dist/index.html)\n",
    ">\n",
    "> <br>\n",
    "> <center><img src='Image/Basic/CLT.jpg' width='600'></center>\n",
    ">\n",
    "> **(2) 실험반복 횟수가 증가하면 `기대되는 발생확률(평균)`은 `이론적/일반화/상식적 수치`와 같아짐**\n",
    ">\n",
    "> **(3) 실험반복 횟수가 증가하면 `기대되는 발생확률 오차(분산)`는 작아져서 `평균 정확성 향상`**\n",
    ">\n",
    "> - 동전을 1회 던지면 어떤 면이 나오게 될까?\n",
    "> \\begin{align*}\n",
    "\\bar{X} \\overset{\\alpha}{\\sim} N(~0.5, \\frac{0.25}{n})\n",
    "\\end{align*}\n",
    ">\n",
    "> - 주사위를 1회 던지면 어떤 면이 나오게 될까?\n",
    ">\n",
    "> \\begin{align*}\n",
    "\\bar{X} \\overset{\\alpha}{\\sim} N(~3.5, \\frac{2.92}{n})\n",
    "\\end{align*}\n",
    "\n",
    "---\n",
    "\n",
    "**2) 중심극한정리(Central Limit Theorem)**: `통계학과 데이터분석의 기반`이 되는 이론으로 분석을 통해 `인싸이트`를 추론할 수 있는 기반\n",
    "\n",
    "> **\"전체 데이터에서 추출된 `샘플들의 평균들`을 구하면 `전체 데이터의 특성`을 알 수 있고, 이 평균들의 분포는 `정규분포`\"**\n",
    ">\n",
    "> \\begin{align*}\n",
    "\\bar{X} \\overset{\\alpha}{\\sim} N(~\\mu, \\frac{\\sigma^2}{n})\n",
    "\\end{align*}\n",
    ">\n",
    "> (1) 전체 데이터가 어떻게 생겼든 `샘플들의 평균`은 정규분포를 따른다.  \n",
    ">\n",
    "> (2) 샘플들의 평균을 `반복적으로 추정`할수록 `전체 데이터의 평균`에 가까워진다.\n",
    ">\n",
    "> (3) 샘플들의 평균을 `반복적으로 추정`할수록 평균 오차가 줄어들어 `평균 정확성 상승한다`\n",
    ">\n",
    "> (4) 샘플들의 평균과 분산만으로 `전체 데이터의 평균과 분산`을 추론할 수 있다.  \n",
    ">\n",
    "> - `전체 데이터의 분포 형태`까지 추론하지는 못한다.  \n",
    "> - 실험을 많이 할수록 `의사결정 근거가 확실`해진다.\n",
    ">\n",
    "> <br>\n",
    "> <center><img src='Image/Basic/CLT_Variance.png' width='900'>(https://bookdown.org/mathemedicine/Stat_book/)</center>"
   ]
  },
  {
   "cell_type": "markdown",
   "metadata": {},
   "source": [
    "# **확률을 다루는 수학자는 도박에 능하다?**\n",
    "\n",
    "> - 모든 수학자들이 그런 것은 아니지만 `확률을 분석할 줄 아는 능력`은 도박에서 돈을 딸 `가능성을 높임`\n",
    "> - 외국에서는 `수학자들이 도박게임의 승률과 성공전략을 수학적으로 증명`, 학회에서 발표하는 일이 흔하며 이를 통해 `새로운 확률 및 통계이론으로 발전`\n",
    "> - 세계증시의 심장인 `뉴욕 월가`에서 수학자들이 각광을 받는 이유 역시 `확률 및 통계이론`에 근거한 `과학적 투자도박`을 하기 때문\n",
    "> - `JP 모건, 골드만 삭스, 모건 스탠리 등 투자회사`들은 수학자들을 동원, 추상의 세계로 여겼던 수학을 도입하여 `투자기법을 과학화`\n"
   ]
  },
  {
   "cell_type": "markdown",
   "metadata": {},
   "source": [
    "## 동전이 앞면이 나오고 다음에 뒷면 나올 확률은?\n",
    "\n",
    "> **\"정답! $\\frac{1}{2} \\times \\frac{1}{2} = \\frac{1}{4}$ (Fair Coin)\"**\n",
    ">\n",
    "> **\"정답! $\\frac{6}{10} \\times \\frac{4}{10} = \\frac{24}{100}$ (Unfair Coin)\"**\n",
    "\n",
    "---\n",
    "\n",
    "**1) 빈도기준 추정(Frequent):** 모든 사건은 `독립`이어서 서로 영향을 주지 않고 `여러이벤트`는 `독립 곱`으로 확률 계산\n",
    "\n",
    "- **빈도확률:** `실제 일어난 사건의 데이터`로 예측 데이터가 `발생할 가능성`을 알아내는 것\n",
    "\n",
    "> - 동전의 앞면이 나올 확률을 구하기 위해, 10번던져서 6개가 앞면이면 6/10, 100번던져서 65개가 앞면이면 65/100처럼 `빈도로 확률을 추정`하고 `독립사건`이 누적되어도 단순 곱하기로 계산\n",
    ">\n",
    "> $$\n",
    "\\begin{align}\n",
    "P(A \\cap B) &= P(A)P(B)\n",
    "\\end{align}\n",
    "$$\n",
    "\n",
    "---\n",
    "\n",
    "**2) 베이지안 추정(Bayesian):** 모든 사건은 `비독립`이라 서로 영향을 주고 `여러이벤트`는 `베이지안 곱`으로 확률 계산\n",
    "\n",
    "- **베이지안확률:** 빈도확률은 데이터가 존재하거나 시도 가능한 경우에만 사용가능하고, `데이터가 충분하지 않거나 시간 또는 비용이 너무 큰 사건들`은 빈도확률 계산 불가\n",
    "\n",
    "> - 사람의 생명과 같은 귀중한 것이거나, 일어나지 않아야 할 사건 확률, 너무 드물어서 이전 데이터마저 존재하지 않는 사건 등, `관찰 비용이 커다란 사건에 대한 확률을 구하는 방식`을 연구하며 개발된 확률 기법\n",
    "> - `화산 폭발 확률`을 빈도확률로 계산하긴 어렵고 서로 영향을 주는 `비독립 사건`들이 굉장히 많기에, `관련있는 여러 확률`을 사용해서 `새롭게 일어날 사건확률 추정`하고 `유연하고 현실적인 대부분의 사건`의 확률 계산에 활용\n",
    "> - `새로운 정보(사건B)`가 발생함으로써, `기존의 정보와 추론(사건A)` 확률이 어떻게 영향을 받아 변하는지 `표현`\n",
    ">\n",
    "> $$\n",
    "\\begin{align}\n",
    "P(A|B) &= \\dfrac{P(A \\cap B)}{P(B)} \\\\\n",
    "P(A|B) &= \\dfrac{P(B|A)P(A)}{P(B)} \\\\\n",
    "P(A|B) &= \\dfrac{P(B|A)}{P(B)} P(A) \\\\\n",
    "사후확률 &= \\dfrac{가능도}{증거} 사전확률 \\\\\n",
    "\\text{사건B 발생후 갱신된 사건A 확률} &= \\dfrac{\\text{사건A 발생시 사건B 확률}}{\\text{실제 사건B 확률}} \\text{사건B 발생전 사건A 확률}\n",
    "\\end{align}\n",
    "$$\n",
    "\n",
    "- **조건부확률(Conditional Probability):** `사건B`가 발생했다는 전제 하에서 `사건A`가 발생할 확률\n",
    "\n",
    "$$\n",
    "\\begin{align}\n",
    "P(A|B) &= \\dfrac{P(A \\cap B)}{P(B)} \\\\\n",
    "P(A \\cap B) &= P(A|B)P(B) \\\\\n",
    "&= P(B|A)P(A)\n",
    "\\end{align}\n",
    "$$\n",
    "\n",
    "- **사전확률(Prior):** `사건B`가 발생하기 `전`에 가지고 있던 `사건A`의 발생 확률 $P(A)$\n",
    "- **사후확률(Posterior):** `사건B`가 발생하면, 이를 반영하여 `사건A`의 확률은 $P(A|B)$\n",
    "- **가능도(Likelihood):** `사건A`가 발생했을 때의 `사건B`의 확률 $P(B|A)$\n",
    "- **증거(Evidence, Normalizing Constant):** `사건B`가 `실제` 발생한 확률로, `가능도`를 `실제 가능도`로 조정해주는 역할 $P(B)$\n",
    "\n",
    "$$\n",
    "\\begin{align}\n",
    "P(B) &= P(B \\cap A) + P(B \\cap A^c) \\\\\n",
    "P(A|B) &= \\dfrac{P(B|A)P(A)}{P(B \\cap A) + P(B \\cap A^c)} \\\\\n",
    "\\end{align}\n",
    "$$\n",
    "\n",
    "---\n",
    "\n",
    "- **예시:** 동전이 앞면이 나왔을 때 다음에 뒷면 나올 확률은?\n",
    "\n",
    "> **(1) 빈도기준 추정(Frequent):** `이어진 여러사건`의 확률을 단순히 `곱해서 추정`\n",
    ">\n",
    "> - $\\frac{1}{2} \\times \\frac{1}{2} = \\frac{1}{4} = 0.25(25\\%)$! (Fair Coin)\n",
    ">\n",
    "> - $\\frac{6}{10} \\times \\frac{4}{10} = \\frac{24}{100} = 0.24(24\\%)$! (Unfair Coin)\n",
    "\n",
    "> **(2) 베이지안 추정(Bayesian):** 뒷면이 나오는 것($A$), 앞면이 나오는 것($B$)\n",
    ">\n",
    "> - $P(A|B)$: `목적` - 앞면이 나오고 다음에 뒷면이 나올 확률\n",
    ">\n",
    "> $$\n",
    "\\begin{align}\n",
    "P(A|B) &= \\dfrac{P(B|A)P(A)}{P(B)} \\\\\n",
    "\\end{align}\n",
    "$$\n",
    "> - $P(B) = P(B \\cap A) + P(B \\cap A^c)$: 앞면이 나올 확률\n",
    ">> - `앞면 + 뒷면` + `앞면 + 앞면`\n",
    ">> - $0.5 \\times 0.5 + 0.5 \\times 0.5 = 0.5(50\\%)$ (Fair Coin)\n",
    ">> - $0.6 \\times 0.4 + 0.6 \\times 0.6 = 0.6(60\\%)$ (Unfair Coin)\n",
    "> - $P(B|A)$: 뒷면이 나온 후, 앞면이 나올 확률\n",
    ">> - `가능도(Likelihood)`라고 부르는 이유는 보통 알려진 또는 이미 가진 정보라 가정하기 때문\n",
    ">> - $0.5(50\\%)$ (Fair Coin)\n",
    ">> - $0.6(60\\%)$ (Unfair Coin)\n",
    "> - $P(A)$: `사전확률`, 뒷면이 나올 확률 \n",
    ">> - $0.5(50\\%)$ (Fair Coin)\n",
    ">> - $0.4(40\\%)$ (Unfair Coin)\n",
    "> \n",
    "> - $P(A|B)$: `사후확률`\n",
    ">> - $\\frac{0.5 \\times 0.5}{0.5} = 0.5(50\\%)$ (Fair Coin)\n",
    ">> - $\\frac{0.6 \\times 0.4}{0.6} = 0.4(40\\%)$ (Unfair Coin)"
   ]
  },
  {
   "cell_type": "markdown",
   "metadata": {},
   "source": [
    "## 빈도확률 vs 베이지안확률 현실문제 비교\n",
    "\n",
    "**예시1)** 평소 `60%` 확률로 거짓말하는 사람이 있다. `90%` 정확도를 가진 거짓말 탐지기로 이 사람이 하는 말이 거짓말일 학률은 얼마나 될까?\n",
    "\n",
    "> **(1) 빈도기준 추정(Frequent):** `이어진 여러사건`의 확률을 단순히 `곱해서 추정`\n",
    "> - $0.6 \\times 0.9 = 0.54(54\\%)$\n",
    "\n",
    "> **(2) 베이지안 추정(Bayesian):** 거짓말 하는 것($A$), 거짓말 탐지기가 거짓말이라고 하는 것($B$)\n",
    ">\n",
    "> - $P(A|B)$: `목적` - 거짓말 탐지기로 이 사람 말이 거짓말이 확률\n",
    ">\n",
    "> $$\n",
    "\\begin{align}\n",
    "P(A|B) &= \\dfrac{P(B|A)P(A)}{P(B)} \\\\\n",
    "\\end{align}\n",
    "$$\n",
    "> - $P(B) = P(B \\cap A) + P(B \\cap A^c)$: 거짓말 탐지기로 거짓말로 판정될 확률\n",
    ">> - `거짓말인데 거짓이라고 판정` + `거짓말 아닌데 거짓이라고 판정`\n",
    ">> - $0.6 \\times 0.9 + 0.4 \\times 0.1 = 0.58(58\\%)$\n",
    "> - $P(B|A)$: 거짓말을 했을때 거짓말 탐지기가 거짓이라고 할 확률\n",
    ">> - `가능도(Likelihood)`라고 부르는 이유는 보통 알려진 또는 이미 가진 정보라 가정하기 때문\n",
    ">> - $0.9(90\\%)$\n",
    "> - $P(A)$: `사전확률`, 거짓말 할 확률 - $0.6(60\\%)$\n",
    "> \n",
    "> - $P(A|B)$: `사후확률`, $\\frac{0.9 \\times 0.6}{0.58} = 0.93(93\\%)$\n",
    "\n",
    "---\n",
    "\n",
    "**예시2)** 일반 여성의 유방암 발병률은 `0.1%`, 유방암 검사는 실제 유방암 환자에겐 `99%` 확률로 `양성`을 제시하고, 건강한 사람에겐 `2%` 확률로 `양성`을 제시하는 오류를 보인다. 만약 유방암 검사 결과 양성이었다면 실제 유방암에 걸렸을 확률은 얼마나 될까?\n",
    "\n",
    "> **(1) 빈도기준 추정(Frequent):** `이어진 여러사건`의 확률을 단순히 `곱해서 추정`\n",
    "> - $0.99 \\times 0.001 = 0.00099(0.099\\%)$\n",
    "\n",
    "> **(2) 베이지안 추정(Bayesian):** 유방암 걸리는 것($A$), 유방암 검사결과 양성판정 나오는 것($B$)\n",
    ">\n",
    "> - $P(A|B)$: `목적` - 유방암 검사결과 양성시 실제 유방암 걸릴 확률\n",
    ">\n",
    "> $$\n",
    "\\begin{align}\n",
    "P(A|B) &= \\dfrac{P(B|A)P(A)}{P(B)} \\\\\n",
    "\\end{align}\n",
    "$$\n",
    "> - $P(B) = P(B \\cap A) + P(B \\cap A^c)$: 유방암 검사결과 양성판정이 나올 확률\n",
    ">> - `실제 유방암 환자인데 양성이라고 판정` + `건강한 사람인데 양성이라고 판정`\n",
    ">> - $0.001 \\times 0.99 + 0.999 \\times 0.02 = 0.020079(2.0079\\%)$\n",
    "> - $P(B|A)$: 실제 유방암 환자인데 양성이라고 판정될 확률\n",
    ">> - `가능도(Likelihood)`라고 부르는 이유는 보통 알려진 또는 이미 가진 정보라 가정하기 때문\n",
    ">> - $0.99(99\\%)$\n",
    "> - $P(A)$: `사전확률`, 유방암 발병률 - $0.001(0.1\\%)$\n",
    "> \n",
    "> - $P(A|B)$: `사후확률`, $\\frac{0.99 \\times 0.001}{0.020079} = 0.049(4.9\\%)$\n",
    "\n",
    "---\n",
    "\n",
    "**예시3)** 만약 한번 더 유방암 검사 결과 양성이었다면 실제 유방암에 걸렸을 확률은 얼마나 될까?\n",
    "\n",
    "> **(1) 빈도기준 추정(Frequent):** `이어진 여러사건`의 확률을 단순히 `곱해서 추정`\n",
    "> - $0.049 \\times 0.001 = 0.000049(0.0049\\%)$\n",
    "\n",
    "> **(2) 베이지안 추정(Bayesian):** 유방암 걸리는 것($A$), 양성판정 받고 한번 더 유방암 검사결과 양성판정 나오는 것($B$)\n",
    ">\n",
    "> - $P(A|B)$: `목적` - 한번 더 유방암 검사결과 양성시 실제 유방암 걸릴 확률\n",
    ">\n",
    "> $$\n",
    "\\begin{align}\n",
    "P(A|B) &= \\dfrac{P(B|A)P(A)}{P(B)} \\\\\n",
    "\\end{align}\n",
    "$$\n",
    "> - $P(B) = P(B \\cap A) + P(B \\cap A^c)$: 유방암 검사결과 양성판정이 나올 확률\n",
    ">> - `유방암 검사결과 양성이고 실제 유방암 환자인데 양성이라고 판정` + `유방암 검사결과 양성이고 건강한 사람인데 양성이라고 판정`\n",
    ">> - $0.049 \\times 0.99 + 0.951 \\times 0.02 = 0.06753(6.753\\%)$\n",
    "> - $P(B|A)$: 실제 유방암 환자인데 양성이라고 판정될 확률\n",
    ">> - `가능도(Likelihood)`라고 부르는 이유는 보통 알려진 또는 이미 가진 정보라 가정하기 때문\n",
    ">> - $0.99(99\\%)$\n",
    "> - $P(A)$: `사전확률`, 유방암 검사결과 양성시 실제 유방암 걸릴 확률 - $0.049(4.9\\%)$\n",
    "> \n",
    "> - $P(A|B)$: `사후확률`, $\\frac{0.99 \\times 0.049}{0.06753} = 0.718(71.8\\%)$\n",
    "> \n",
    "> **<span style=\"color:red\">$\\Rightarrow$ 베이즈 정리의 핵심은, 관찰을 통해 `새로운 정보`가 추가되면 `확률이 업데이트`!</span>**"
   ]
  }
 ],
 "metadata": {
  "hide_input": false,
  "kernelspec": {
   "display_name": "Python 3 (ipykernel)",
   "language": "python",
   "name": "python3"
  },
  "language_info": {
   "codemirror_mode": {
    "name": "ipython",
    "version": 3
   },
   "file_extension": ".py",
   "mimetype": "text/x-python",
   "name": "python",
   "nbconvert_exporter": "python",
   "pygments_lexer": "ipython3",
   "version": "3.9.13"
  },
  "toc": {
   "base_numbering": 1,
   "nav_menu": {},
   "number_sections": true,
   "sideBar": true,
   "skip_h1_title": false,
   "title_cell": "Table of Contents",
   "title_sidebar": "Contents",
   "toc_cell": false,
   "toc_position": {
    "height": "1058px",
    "left": "579px",
    "top": "224px",
    "width": "392.542px"
   },
   "toc_section_display": true,
   "toc_window_display": true
  },
  "toc-autonumbering": true,
  "varInspector": {
   "cols": {
    "lenName": 16,
    "lenType": 16,
    "lenVar": 40
   },
   "kernels_config": {
    "python": {
     "delete_cmd_postfix": "",
     "delete_cmd_prefix": "del ",
     "library": "var_list.py",
     "varRefreshCmd": "print(var_dic_list())"
    },
    "r": {
     "delete_cmd_postfix": ") ",
     "delete_cmd_prefix": "rm(",
     "library": "var_list.r",
     "varRefreshCmd": "cat(var_dic_list()) "
    }
   },
   "types_to_exclude": [
    "module",
    "function",
    "builtin_function_or_method",
    "instance",
    "_Feature"
   ],
   "window_display": false
  }
 },
 "nbformat": 4,
 "nbformat_minor": 4
}
